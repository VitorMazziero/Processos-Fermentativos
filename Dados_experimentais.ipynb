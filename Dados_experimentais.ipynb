{
  "nbformat": 4,
  "nbformat_minor": 0,
  "metadata": {
    "colab": {
      "provenance": [],
      "authorship_tag": "ABX9TyPqCDYbaNjsEn27hgFwML6U",
      "include_colab_link": true
    },
    "kernelspec": {
      "name": "python3",
      "display_name": "Python 3"
    },
    "language_info": {
      "name": "python"
    }
  },
  "cells": [
    {
      "cell_type": "markdown",
      "metadata": {
        "id": "view-in-github",
        "colab_type": "text"
      },
      "source": [
        "<a href=\"https://colab.research.google.com/github/VitorMazziero/Processos-Fermentativos/blob/main/Dados_experimentais.ipynb\" target=\"_parent\"><img src=\"https://colab.research.google.com/assets/colab-badge.svg\" alt=\"Open In Colab\"/></a>"
      ]
    },
    {
      "cell_type": "code",
      "execution_count": null,
      "metadata": {
        "id": "JhCF5L0RnnoX"
      },
      "outputs": [],
      "source": [
        "Cx_exp=np.array([0.247,0.235,0.295,0.328,0.426,0.483,0.547,0.618,0.794,1.185,1.254,2.328,2.580,2.890,3.375,3.350,3.510,3.890,3.87,4.6,5.8,6.7,8.3,7.2,8.1,7.8,8.4,7.3,6.6,5.3]) #Valores de tempo e Cx\n",
        "Cs_exp=np.array([29.58,28.86,30.82,27.31,30.3604,30.512,32.07,31.09,30.3817,19.9537,21.88,25.1167,21.01,20.81,19.0656,15.93,14.96,12.82,11.36,10.3,8.7,6.3,2.1,0,0,0,0,0,0,0]) #Valores de tempo e Cs\n",
        "texp=arange(0,15,0.5) #Variação do tempo experimental"
      ]
    }
  ]
}