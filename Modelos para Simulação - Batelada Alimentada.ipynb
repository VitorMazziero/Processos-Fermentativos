{
  "nbformat": 4,
  "nbformat_minor": 0,
  "metadata": {
    "colab": {
      "provenance": [],
      "toc_visible": true,
      "authorship_tag": "ABX9TyN1+43/ymmo65zd7aCd9n2U",
      "include_colab_link": true
    },
    "kernelspec": {
      "name": "python3",
      "display_name": "Python 3"
    },
    "language_info": {
      "name": "python"
    }
  },
  "cells": [
    {
      "cell_type": "markdown",
      "metadata": {
        "id": "view-in-github",
        "colab_type": "text"
      },
      "source": [
        "<a href=\"https://colab.research.google.com/github/VitorMazziero/Processos-Fermentativos/blob/main/Modelos%20para%20Simula%C3%A7%C3%A3o%20-%20Batelada%20Alimentada.ipynb\" target=\"_parent\"><img src=\"https://colab.research.google.com/assets/colab-badge.svg\" alt=\"Open In Colab\"/></a>"
      ]
    },
    {
      "cell_type": "markdown",
      "source": [
        "#Batelada Alimentada (Semicontínuo)\n"
      ],
      "metadata": {
        "id": "tZi0cDkxvFIs"
      }
    },
    {
      "cell_type": "markdown",
      "source": [
        "Diferentemente da Batelada Simples, no semicontínuo há a variação de volume, caracterizada apenas pela **adição de substrato** **sem saída** de meio reacional"
      ],
      "metadata": {
        "id": "xFgxCiuGWXKt"
      }
    },
    {
      "cell_type": "markdown",
      "source": [
        "A taxa de alimentação de meio no reator pode ser realizada de diferentes formas, sendo as principais apresentadas a seguir:\n",
        "\n",
        "> Vazão constante\n",
        "\n",
        "> Vazão linear\n",
        "\n",
        "> Vazão exponencial\n",
        "\n",
        "\n",
        "\n"
      ],
      "metadata": {
        "id": "ilqwJuIAW6yj"
      }
    },
    {
      "cell_type": "markdown",
      "source": [
        "##Taxa de alimentação de meio ($Q$)"
      ],
      "metadata": {
        "id": "a5aXEk4RCt61"
      }
    },
    {
      "cell_type": "markdown",
      "source": [
        "A taxa de alimentação, vazão de entrada, é definida como variação do volume pelo tempo: $ Q = \\frac{\\mathrm{d} V}{\\mathrm{d} t}$\n",
        "\n",
        "Para vazão constante: $\\frac{\\mathrm{d} V}{\\mathrm{d} t} = \\beta$\n",
        "\n",
        "Integrando: $V = V_{0} + \\beta t$"
      ],
      "metadata": {
        "id": "qNuNYv40C2i3"
      }
    },
    {
      "cell_type": "markdown",
      "source": [
        "Para variação linear da vazão: $\\frac{\\mathrm{d} V}{\\mathrm{d} t} =Q_{0} + \\beta t$\n",
        "\n",
        "Integrando: $V = V_{0}+Q_{0}t + \\frac{\\beta t^2}{2}$"
      ],
      "metadata": {
        "id": "RJWOa41JD4Va"
      }
    },
    {
      "cell_type": "markdown",
      "source": [
        "Para variação exponencial da vazão: $\\frac{\\mathrm{d} V}{\\mathrm{d} t} =Q_{0}e^{\\beta t}$\n",
        "\n",
        "Integrando: $V = V_{0}+ \\frac{Q_{0}}{\\beta}e^{\\beta t}$\n"
      ],
      "metadata": {
        "id": "4rvq5b4EGT-k"
      }
    },
    {
      "cell_type": "code",
      "source": [
        "from numpy import arange\n",
        "import matplotlib.pyplot as plt\n",
        "import numpy as np\n",
        "import math as m"
      ],
      "metadata": {
        "id": "z_WXcWiDI06b"
      },
      "execution_count": null,
      "outputs": []
    },
    {
      "cell_type": "code",
      "source": [
        "t= np.arange(0,100,0.25)\n",
        "\n",
        "# Vazão constante\n",
        "V0 = 2.0\n",
        "Q=0.25\n",
        "\n",
        "Q_1 = [Q] * len(t)\n",
        "V_1 = V0+Q_1*t\n",
        "\n",
        "#Plotar resultados\n",
        "fig, ax1 = plt.subplots()\n",
        "ax1.plot(t,Q_1,label='Vazão Constante (β)', color ='r')\n",
        "ax1.set_ylabel('Q (t)')\n",
        "ax1.set_ylim([0, 1.5])\n",
        "ax2 = ax1.twinx()\n",
        "ax2.plot(t,V_1,label='Volume (Vazão constante)', color ='b')\n",
        "ax2.set_ylabel('Volume (t)')\n",
        "ax2.set_ylim([0, 30])\n",
        "ax1.set_xlabel('Tempo')\n",
        "ax1.legend(['Vazão Constante (β)'], loc='upper left', bbox_to_anchor=(0, 1))\n",
        "ax2.legend(['Volume (Vazão constante)'], loc='upper left', bbox_to_anchor=(0, 0.9))\n",
        "plt.show()\n",
        "\n",
        "#Vazão linear\n",
        "Q0 = 0\n",
        "V0 = 2.0\n",
        "β = 0.005\n",
        "Q_2 = Q0 + β*t\n",
        "V_2 = V0 + Q0*t + (β*t**2)/2\n",
        "\n",
        "#Plotar resultados\n",
        "fig, ax1 = plt.subplots()\n",
        "ax1.plot(t,Q_2,label='Vazão Linear (Q0+βt)', color ='r')\n",
        "ax1.set_ylabel('Q (t)')\n",
        "ax1.set_ylim([0, 1.5])\n",
        "ax2 = ax1.twinx()\n",
        "ax2.plot(t,V_2,label='Volume (Vazão linear)', color ='b')\n",
        "ax2.set_ylabel('Volume (t)')\n",
        "ax2.set_ylim([0, 30])\n",
        "ax1.set_xlabel('Tempo')\n",
        "ax1.legend(['Vazão Linear (Q0+βt)'], loc='upper left', bbox_to_anchor=(0, 1))\n",
        "ax2.legend(['Volume (Vazão linear)'], loc='upper left', bbox_to_anchor=(0, 0.9))\n",
        "plt.show()\n",
        "\n",
        "#Vazão exponencial\n",
        "Q0 = 0.001\n",
        "V0 = 2.0\n",
        "β = 0.07\n",
        "Q_3 = Q0*((2.71828)**(β*t))\n",
        "V_3 = V0 + (Q0/β)*(2.71828**(β*t))\n",
        "\n",
        "#Plotar resultados\n",
        "fig, ax1 = plt.subplots()\n",
        "ax1.plot(t,Q_3,label='Vazão exponencial (Q0+e^βt)', color ='r')\n",
        "ax1.set_ylabel('Q (t)')\n",
        "ax1.set_ylim([0, 1.5])\n",
        "ax2 = ax1.twinx()\n",
        "ax2.plot(t,V_3,label='Volume (Vazão exponencial)', color ='b')\n",
        "ax2.set_ylabel('Volume (t)')\n",
        "ax2.set_ylim([0, 30])\n",
        "ax1.set_xlabel('Tempo')\n",
        "ax1.legend(['Vazão exponencial (Q0+e^βt)'], loc='upper left', bbox_to_anchor=(0, 1))\n",
        "ax2.legend(['Volume (Vazão exponencial)'], loc='upper left', bbox_to_anchor=(0, 0.9))\n",
        "plt.show()"
      ],
      "metadata": {
        "colab": {
          "base_uri": "https://localhost:8080/",
          "height": 815
        },
        "id": "iEkAysi1I2Kq",
        "outputId": "9a0edade-f610-41c6-fc17-614f9732e4e8"
      },
      "execution_count": null,
      "outputs": [
        {
          "output_type": "display_data",
          "data": {
            "text/plain": [
              "<Figure size 432x288 with 2 Axes>"
            ],
            "image/png": "[encoded data removed]"
          },
          "metadata": {
            "needs_background": "light"
          }
        },
        {
          "output_type": "display_data",
          "data": {
            "text/plain": [
              "<Figure size 432x288 with 2 Axes>"
            ],
            "image/png": "[encoded data removed]"
          },
          "metadata": {
            "needs_background": "light"
          }
        },
        {
          "output_type": "display_data",
          "data": {
            "text/plain": [
              "<Figure size 432x288 with 2 Axes>"
            ],
            "image/png": "[encoded data removed]"
          },
          "metadata": {
            "needs_background": "light"
          }
        }
      ]
    },
    {
      "cell_type": "markdown",
      "source": [
        "##Balanço de Massa Celular"
      ],
      "metadata": {
        "id": "ObQY8sxXodw9"
      }
    },
    {
      "cell_type": "markdown",
      "source": [
        "Acúmulo = Entra - Sai + Geração - Consumo\n",
        "\n",
        "⠀\n",
        "\n",
        "Para Batelada Alimentada o balanço geral é simplificado para: \n",
        "\n",
        "\n",
        "> Acúmulo $=$ Entra + Geração - Morte\n",
        "\n",
        "⠀⠀⠀⠀⠀⠀⠀⠀⠀$\\therefore$\n",
        "\n",
        "> ⠀⠀⠀$\\frac{\\mathrm{dm_{x}} }{\\mathrm{d} t} = Qm_{xe} + R_{x} - R_{d}$ ⠀⠀⠀⠀⠀⠀⠀⠀⠀⠀⠀⠀⠀⠀⠀⠀⠀ Eq. (1)"
      ],
      "metadata": {
        "id": "qL5PiNvkoikO"
      }
    },
    {
      "cell_type": "markdown",
      "source": [
        "---\n",
        "Na qual: **Taxa de alimentação** = $Q$ ; **Variação da massa celular = $\\frac{\\mathrm{dC_{x}} }{\\mathrm{d} t}$** ; **Geração mássica celular = $R_{x}$** ; **Taxa mássica de morte Celular** = $R_{d}$ e **Massa de células na vazão de entrada** = $m_{xe}$\n",
        "\n",
        "---"
      ],
      "metadata": {
        "id": "19KFI0TRbYwK"
      }
    },
    {
      "cell_type": "markdown",
      "source": [
        "Substituindo massa $m_{x}$ pela concentração celular $C_{x}$ utilizando a relação $C_{x}=\\frac{m_{x}}{V}$, a geração celular passa a ser descrita por $r_{x}=\\frac{R_{x}}{V}$ e a morte celular por $r_{d}=\\frac{R_{d}}{V}$:\n",
        "\n",
        "$\\frac{\\mathrm{dC_{x} V} }{\\mathrm{d} t} = QC_{xe} + r_{x}V - r_{d}V$ ⠀⠀⠀⠀⠀⠀⠀⠀⠀⠀⠀⠀⠀⠀⠀Eq. (2)\n"
      ],
      "metadata": {
        "id": "T7nRAFGLbVK6"
      }
    },
    {
      "cell_type": "markdown",
      "source": [
        "Como na batelada alimentada o volume não é mais constante aplica-se a regra do produto no primeiro termo da Eq. (2):\n",
        "\n",
        "$\\frac{\\mathrm{dC_{x}V} }{\\mathrm{d} t}\\Rightarrow C_{x}\\frac{\\mathrm{dV} }{\\mathrm{d} t} + V\\frac{\\mathrm{dC_{x}} }{\\mathrm{d} t}$\n"
      ],
      "metadata": {
        "id": "-oZVk0uTu7Pn"
      }
    },
    {
      "cell_type": "markdown",
      "source": [
        "Substituindo $\\frac{\\mathrm{dV} }{\\mathrm{d} t}$ por $Q$, chega-se na Eq. (3) que descreve o acúmulo celular:\n",
        "\n",
        "\n",
        "$C_{x}\\frac{\\mathrm{dV} }{\\mathrm{d} t} + V\\frac{\\mathrm{dC_{x}} }{\\mathrm{d} t} = C_{x}Q + V\\frac{\\mathrm{dC_{x}} }{\\mathrm{d} t}$ ⠀⠀⠀⠀⠀⠀⠀⠀⠀⠀⠀⠀⠀⠀⠀⠀⠀⠀⠀Eq. (3)\n",
        "\n",
        "\n"
      ],
      "metadata": {
        "id": "A6nL6vled0BS"
      }
    },
    {
      "cell_type": "markdown",
      "source": [
        "Analogamente a Batelada Simples, as taxas de crescimento e morte celular são descritas a seguir uitlizando a relação para reações de primeira ordem:\n",
        "\n",
        "$r_{x}=\\frac{\\mathrm{d}[C] }{\\mathrm{d} t} = k_{1}[C]^{1}$ \n",
        "\n",
        "$r_{d}=-\\frac{\\mathrm{d}[C] }{\\mathrm{d} t} = k_{2}[C]^{1}$ "
      ],
      "metadata": {
        "id": "5pdRPPVAdjbT"
      }
    },
    {
      "cell_type": "markdown",
      "source": [
        "---\n",
        "\n",
        "Na qual: $[C]^{1} = C_{x}$ ; $k_{1}=\\mu$ (taxa de crescimento celular) e $k_{2}=k_{d}$ (taxa de morte celular)\n",
        "\n",
        "---"
      ],
      "metadata": {
        "id": "UU7mxAZ6dXTS"
      }
    },
    {
      "cell_type": "markdown",
      "source": [
        "Assim, chega-se na Eq. (4) que descreve a geração e morte de células:\n",
        "\n",
        "$r_{x}V - r_{d}V = (\\mu - k_{d})  C_{x} V$  ⠀⠀⠀⠀⠀⠀⠀⠀⠀⠀⠀⠀⠀⠀⠀⠀⠀⠀⠀Eq. (4)"
      ],
      "metadata": {
        "id": "Mag28kSOe7mY"
      }
    },
    {
      "cell_type": "markdown",
      "source": [
        "Portanto, unindo-se as Eq. (3) e (4), a partir da Eq.(2), obtém-se a Eq. (5):\n",
        "\n",
        "\n",
        "\n",
        "$C_{x}Q + V\\frac{\\mathrm{dC_{x}} }{\\mathrm{d} t} = QC_{xe} + (\\mu - k_{d})  C_{x} V$\n",
        "\n",
        "\n",
        "\n",
        "\n"
      ],
      "metadata": {
        "id": "AVWlArXTfhnI"
      }
    },
    {
      "cell_type": "markdown",
      "source": [
        "Dividindo a equação anterior por $V$ e colocando $C_{x}$ em evidência:\n",
        "\n",
        "\n",
        "\n",
        "$\\frac{\\mathrm{dC_{x}} }{\\mathrm{d} t} =\\frac{Q}{V}C_{xe} + (\\mu - k_{d} -\\frac{Q}{V})  C_{x} $"
      ],
      "metadata": {
        "id": "hW0aookyoUOf"
      }
    },
    {
      "cell_type": "markdown",
      "source": [
        "\n",
        "\n",
        "---\n",
        "\n",
        "Definindo a **taxa de diluição** como $D = \\frac{Q}{V}$\n",
        "\n",
        "\n",
        "---\n",
        "\n"
      ],
      "metadata": {
        "id": "wKp3Ujc3gyXw"
      }
    },
    {
      "cell_type": "markdown",
      "source": [
        "> $\\frac{\\mathrm{dC_{x}} }{\\mathrm{d} t} =DC_{xe} + (\\mu - k_{d} -D)  C_{x} $   ⠀⠀⠀⠀⠀⠀⠀⠀⠀⠀⠀⠀⠀Eq. (5)"
      ],
      "metadata": {
        "id": "E1kmYCTRg-sw"
      }
    },
    {
      "cell_type": "markdown",
      "source": [
        "Assim, é definida a função para integração numérica ***Cx_Var*** que descreve a variação de Cx com o tempo"
      ],
      "metadata": {
        "id": "5Qm-J2eBqQKY"
      }
    },
    {
      "cell_type": "code",
      "source": [
        "def Cx_Var(Cx, t, μ, kd, Cxe, D):\n",
        "    dCxdt = D*Cxe+(μ-Kd-D)*Cx #Eq. (5)\n",
        "    return dCxdt"
      ],
      "metadata": {
        "id": "jNSvrGj1qRlg"
      },
      "execution_count": null,
      "outputs": []
    },
    {
      "cell_type": "markdown",
      "source": [
        "##Balanço de Massa de Substrato"
      ],
      "metadata": {
        "id": "j9CGridyU1Dq"
      }
    },
    {
      "cell_type": "markdown",
      "source": [
        "Acúmulo = Entra - Sai + Geração - Consumo\n",
        "\n",
        "⠀\n",
        "\n",
        "Para Batelada Simples o balanço geral de substrato é simplificado para: \n",
        "\n",
        "\n",
        "> Acúmulo $=$ Entra$-$Consumo\n",
        "\n",
        "⠀⠀⠀⠀⠀⠀⠀⠀⠀$\\therefore$\n",
        "\n",
        "> $\\frac{\\mathrm{dm_{s}} }{\\mathrm{d} t} = Qm_{se}-R_{s} = QC_{se}-r_{s}V$ ⠀⠀⠀⠀⠀⠀⠀⠀⠀⠀⠀⠀ Eq. (6)\n",
        "\n",
        "---\n",
        "Na qual: **Variação mássica de substrato = $\\frac{\\mathrm{dm_{s}} }{\\mathrm{d} t}$** e **Consumo de substrato = $R_{s}$** **Massa de células na vazão de entrada** = $m_{se}$\n",
        "\n",
        "---"
      ],
      "metadata": {
        "id": "geSOL-RTU6lP"
      }
    },
    {
      "cell_type": "markdown",
      "source": [
        "Análogo ao acúmulo de massa celular, o acúmulo de substrato no reator é dado pela regra do produto no primeiro termo da Eq.(6)\n",
        "\n",
        "$\\frac{\\mathrm{dm_{s}} }{\\mathrm{d} t} = \\frac{\\mathrm{dC_{s}V} }{\\mathrm{d} t}\\Rightarrow C_{s}\\frac{\\mathrm{dV} }{\\mathrm{d} t} + V\\frac{\\mathrm{dC_{s}} }{\\mathrm{d} t}$"
      ],
      "metadata": {
        "id": "qwsgIgHpj5C3"
      }
    },
    {
      "cell_type": "markdown",
      "source": [
        "Assim:\n",
        "\n",
        "$\\frac{\\mathrm{dC_{s}V} }{\\mathrm{d} t} = C_{s}\\frac{\\mathrm{dV} }{\\mathrm{d} t} + V\\frac{\\mathrm{dC_{s}} }{\\mathrm{d} t}= QC_{se}-r_{s}V$ ⠀⠀⠀⠀⠀⠀⠀ ⠀⠀ Eq. (7)\n",
        "\n"
      ],
      "metadata": {
        "id": "1lobckJ2ltBe"
      }
    },
    {
      "cell_type": "markdown",
      "source": [
        "Para relacionar o consumo de substrato com a formação celular, é necessário definir o **rendimento de crescimento celular** $Y_{\\frac{x}{s}}$ (a quantidade de célula que é formada por substrato consumido): \n",
        "\n",
        "\n",
        "$Y_{\\frac{x}{s}} = \\frac{r_{x}}{r_{s}}$ ⠀⠀⠀⠀⠀⠀⠀⠀⠀⠀⠀⠀⠀⠀⠀⠀⠀⠀⠀⠀⠀⠀⠀⠀⠀⠀⠀⠀⠀⠀⠀⠀⠀⠀⠀⠀Eq. (8)"
      ],
      "metadata": {
        "id": "ui6vAJodljao"
      }
    },
    {
      "cell_type": "markdown",
      "source": [
        "Substituindo a Eq.(8) na Eq.(7):\n",
        "\n",
        "$C_{s}\\frac{\\mathrm{dV} }{\\mathrm{d} t} + V\\frac{\\mathrm{dC_{s}} }{\\mathrm{d} t}= QC_{se}-\\frac{r_{x}}{Y_{\\frac{x}{s}}}V$\n",
        "\n",
        "$C_{s}\\frac{\\mathrm{dV} }{\\mathrm{d} t} + V\\frac{\\mathrm{dC_{s}} }{\\mathrm{d} t}= QC_{se}-\\frac{\\mu C_{x}}{Y_{\\frac{x}{s}}}V$⠀⠀⠀⠀⠀⠀⠀⠀⠀⠀⠀⠀⠀⠀⠀⠀⠀⠀⠀Eq. (9)\n",
        "\n"
      ],
      "metadata": {
        "id": "tcFL9FXtmZ5X"
      }
    },
    {
      "cell_type": "markdown",
      "source": [
        "Isolando $\\frac{\\mathrm{dC_{s}} }{\\mathrm{d} t}$ e substiutindo $D = \\frac{Q}{V}$, chega-se a Eq.(10):\n",
        "\n",
        "\n",
        "> $\\frac{\\mathrm{dC_{s}} }{\\mathrm{d} t}= D(C_{se}-C_{s}) - \\frac{\\mu C_{x}}{Y_{\\frac{x}{s}}}$ ⠀⠀⠀⠀⠀⠀⠀⠀⠀⠀⠀⠀⠀⠀⠀⠀⠀⠀⠀Eq. (10)\n",
        "\n"
      ],
      "metadata": {
        "id": "YxtWhrQsoY4g"
      }
    },
    {
      "cell_type": "markdown",
      "source": [
        "Assim, é definida a função para integração numérica ***Cs_Var*** que descreve a variação de Cs com o tempo"
      ],
      "metadata": {
        "id": "fYUDfKiO5WQR"
      }
    },
    {
      "cell_type": "code",
      "source": [
        "def Cs_Var(Cs, t, Cse, D, μ, Cx, Yxs):\n",
        "    dCsdt = D*(Cse-Cs)-μ*Cx/Yxs #Eq. (10)\n",
        "    return dCsdt"
      ],
      "metadata": {
        "id": "wcTwoUhw5Vd2"
      },
      "execution_count": null,
      "outputs": []
    },
    {
      "cell_type": "markdown",
      "source": [
        "##Balanço de Massa de Produto "
      ],
      "metadata": {
        "id": "tdBnDjjFr4NG"
      }
    },
    {
      "cell_type": "markdown",
      "source": [
        "Acúmulo = Entra - Sai + Geração - Consumo\n",
        "\n",
        "⠀\n",
        "\n",
        "Para Batelada Simples o balanço geral de produto é simplificado para: \n",
        "\n",
        "\n",
        "> Acúmulo $=$ Entra + Gerado - Degradado\n",
        "\n",
        "⠀⠀⠀⠀⠀⠀⠀⠀⠀$\\therefore$\n",
        "\n",
        "> $\\frac{\\mathrm{dm_{p}} }{\\mathrm{d} t} = Qm_{pe} + R_{p} - R_{dp} = QC_{pe} r_{p}V - r_{dp}V$ ⠀⠀⠀⠀⠀⠀⠀⠀⠀⠀⠀⠀⠀⠀⠀⠀⠀⠀⠀⠀ Eq. (11)\n",
        "\n",
        "---\n",
        "Na qual: **Variação mássica de produto = $\\frac{\\mathrm{dm_{p}} }{\\mathrm{d} t}$** ; **Geração de produto = $R_{p}$** ; **Massa de produto na vazão de entrada** = $m_{pe}$ e **Degradação de produto = $R_{dp}$**\n",
        "\n",
        "---"
      ],
      "metadata": {
        "id": "5sNKTps2r_es"
      }
    },
    {
      "cell_type": "markdown",
      "source": [
        "Análogo ao acúmulo de massa celular, o acúmulo de substrato no reator é dado pela regra do produto no primeiro termo da Eq.(11)\n",
        "\n",
        "$\\frac{\\mathrm{dm_{p}} }{\\mathrm{d} t} = \\frac{\\mathrm{dC_{p}V} }{\\mathrm{d} t}\\Rightarrow C_{p}\\frac{\\mathrm{dV} }{\\mathrm{d} t} + V\\frac{\\mathrm{dC_{p}} }{\\mathrm{d} t}$"
      ],
      "metadata": {
        "id": "RJlxZYn0rRJ8"
      }
    },
    {
      "cell_type": "markdown",
      "source": [
        "Assim:\n",
        "\n",
        "$\\frac{\\mathrm{dC_{p}V} }{\\mathrm{d} t} = C_{p}\\frac{\\mathrm{dV} }{\\mathrm{d} t} + V\\frac{\\mathrm{dC_{p}} }{\\mathrm{d} t}= QC_{pe} + r_{p}V - r_{dp}V$ ⠀⠀⠀⠀⠀⠀⠀ ⠀⠀ Eq. (12)\n",
        "\n"
      ],
      "metadata": {
        "id": "MBNlTUEAragA"
      }
    },
    {
      "cell_type": "markdown",
      "source": [
        "Isolando $\\frac{\\mathrm{dC_{p}} }{\\mathrm{d} t}$ e substiutindo $D = \\frac{Q}{V}$, chega-se a Eq.(13):\n",
        "\n",
        "> $\\frac{\\mathrm{dC_{p}} }{\\mathrm{d} t} = D (C_{pe}- C_{p}) + r_{p} - r_{dp} $  ⠀⠀⠀⠀⠀⠀⠀ ⠀⠀ Eq. (13)\n",
        "\n"
      ],
      "metadata": {
        "id": "DtBuocMjsRBN"
      }
    },
    {
      "cell_type": "markdown",
      "source": [
        "Para relacionar a geração de produto com a formação celular, é necessário definir seu tipo de geração, que afetará o valor da taxa de formação do produto ($r_{p})$, na qual $\\alpha$ e $\\beta$ são constantes e $r_{dp} = k_{dp}C_{p}$:\n",
        "⠀\n",
        "\n",
        "⠀\n",
        "\n",
        ">**Associado ao crescimento:** ⠀$\\frac{\\mathrm{dC_{p}} }{\\mathrm{d} t} = D (C_{pe}- C_{p}) + \\alpha \\mu C_{x} - k_{dp}C_{p}$  ⠀⠀⠀⠀⠀⠀⠀⠀⠀⠀⠀⠀⠀⠀⠀⠀⠀⠀⠀⠀⠀⠀⠀⠀⠀⠀⠀⠀⠀Eq. (14)\n",
        "⠀\n",
        "\n",
        "⠀\n",
        "\n",
        ">**Não associado ao crescimento:** ⠀$\\frac{\\mathrm{dC_{p}} }{\\mathrm{d} t} = D (C_{pe}- C_{p}) + \\beta C_{x} - k_{dp}C_{p}$ ⠀⠀⠀⠀⠀⠀⠀⠀⠀⠀⠀⠀⠀⠀⠀⠀⠀⠀⠀⠀⠀⠀⠀⠀⠀⠀⠀Eq. (15)\n",
        "\n",
        "⠀\n",
        "\n",
        ">**Parcialmente associado ao crescimento:** ⠀$\\frac{\\mathrm{dC_{p}} }{\\mathrm{d} t} = D (C_{pe}- C_{p}) +\\alpha \\mu C_{x} + \\beta C_{x} - k_{dp}C_{p}$ ⠀⠀⠀⠀⠀⠀⠀⠀⠀⠀⠀⠀⠀⠀Eq. (16)\n"
      ],
      "metadata": {
        "id": "leDNwWyvscgF"
      }
    },
    {
      "cell_type": "markdown",
      "source": [
        "Portanto, a função para integração numérica ***Cp_Var*** que descreve a variação de Cp com o tempo passa a ser dada pela função abaixo, na qual a definição das variáveis $\\alpha \\geq 0 $ ou $\\beta \\geq 0$ indicarão o tipo de geração do produto:"
      ],
      "metadata": {
        "id": "OO6wHYLLvi6J"
      }
    },
    {
      "cell_type": "code",
      "source": [
        "def Cp_Var(Cp, t, Cpe, α, β, D, Cx, Kdp):\n",
        "    dCpdt = D*(Cpe - Cp) + α*μ*Cx + β*Cx - Kdp*Cp # Eq (16)\n",
        "    return dCpdt"
      ],
      "metadata": {
        "id": "TdwZkLwOvhk3"
      },
      "execution_count": 65,
      "outputs": []
    },
    {
      "cell_type": "markdown",
      "source": [
        "##Simulação da variação da concentração para μ constante\n",
        "\n"
      ],
      "metadata": {
        "id": "DmwVAmBh47KQ"
      }
    },
    {
      "cell_type": "markdown",
      "source": [
        "Definindo as condições iniciais:"
      ],
      "metadata": {
        "id": "vM8jMNOGxeGO"
      }
    },
    {
      "cell_type": "code",
      "source": [
        "# Simulação - μ constante\n",
        "\n",
        "# -*- coding: utf-8 -*-\n",
        "\"\"\"\n",
        "Created on Wed Sep  7 15:36:42 2022\n",
        "\n",
        "@author: Vítor Teixeira Mazziero - UNESP Araraquara\n",
        "\"\"\"\n",
        "\n",
        "import numpy as np\n",
        "\n",
        "# Condições iniciais\n",
        "Cx0 = 1.5 # Concentração inicial de células (inóculo) - C[0]\n",
        "Cs0 = 30 # Concentração inicial de substrato - C[1]\n",
        "Cp0 = 0 # Concentração inicial de produto - - C[2]\n",
        "\n",
        "C = [Cx0, Cs0, Cp0]\n",
        "\n",
        "# Parâmetros para crescimento celular\n",
        "μmax = μ = 0.25\n",
        "Kd = 0.05\n",
        "\n",
        "# Parâmetros para consumo de substrato\n",
        "Yxs = 0.2\n",
        "\n",
        "# Parâmetros para formação de produto\n",
        "α = 0.25\n",
        "β = 0\n",
        "Kdp = 0"
      ],
      "metadata": {
        "id": "IsGCugxc5Irp"
      },
      "execution_count": 66,
      "outputs": []
    },
    {
      "cell_type": "markdown",
      "source": [
        "Criando o vetor de tempo para os limites de integração:"
      ],
      "metadata": {
        "id": "iYP4csTLxXVH"
      }
    },
    {
      "cell_type": "code",
      "source": [
        "# Vetor tempo\n",
        "t=np.arange(0,12.6, 0.1) # Variação do tempo\n",
        "print(t)"
      ],
      "metadata": {
        "colab": {
          "base_uri": "https://localhost:8080/"
        },
        "id": "CgldYMZoWpvY",
        "outputId": "804d5170-8d3d-4804-ddcb-6c4ba23cbf20"
      },
      "execution_count": 67,
      "outputs": [
        {
          "output_type": "stream",
          "name": "stdout",
          "text": [
            "[ 0.   0.1  0.2  0.3  0.4  0.5  0.6  0.7  0.8  0.9  1.   1.1  1.2  1.3\n",
            "  1.4  1.5  1.6  1.7  1.8  1.9  2.   2.1  2.2  2.3  2.4  2.5  2.6  2.7\n",
            "  2.8  2.9  3.   3.1  3.2  3.3  3.4  3.5  3.6  3.7  3.8  3.9  4.   4.1\n",
            "  4.2  4.3  4.4  4.5  4.6  4.7  4.8  4.9  5.   5.1  5.2  5.3  5.4  5.5\n",
            "  5.6  5.7  5.8  5.9  6.   6.1  6.2  6.3  6.4  6.5  6.6  6.7  6.8  6.9\n",
            "  7.   7.1  7.2  7.3  7.4  7.5  7.6  7.7  7.8  7.9  8.   8.1  8.2  8.3\n",
            "  8.4  8.5  8.6  8.7  8.8  8.9  9.   9.1  9.2  9.3  9.4  9.5  9.6  9.7\n",
            "  9.8  9.9 10.  10.1 10.2 10.3 10.4 10.5 10.6 10.7 10.8 10.9 11.  11.1\n",
            " 11.2 11.3 11.4 11.5 11.6 11.7 11.8 11.9 12.  12.1 12.2 12.3 12.4 12.5]\n"
          ]
        }
      ]
    },
    {
      "cell_type": "markdown",
      "source": [
        "Definindo os parâmetros operacionais"
      ],
      "metadata": {
        "id": "YhvQT_yLuZuc"
      }
    },
    {
      "cell_type": "code",
      "source": [
        "# Parâmetros operacionais\n",
        "Q0 = 0.12\n",
        "V0 = 2.0\n",
        "β = 0.1\n",
        "\n",
        "#Concentrações de alimentação \n",
        "Cxe = 0\n",
        "Cse = 20\n",
        "Cpe = 0"
      ],
      "metadata": {
        "id": "yBrwajE1ubBM"
      },
      "execution_count": 68,
      "outputs": []
    },
    {
      "cell_type": "markdown",
      "source": [
        "Unindo as funções Cx_Var, Cs_Var e Cp_Var descritas anteriormente em **C_Var** :"
      ],
      "metadata": {
        "id": "rg_-JKx2xJWV"
      }
    },
    {
      "cell_type": "code",
      "source": [
        "def C_Var(C, t, μ, Kd, Yxs, α, β, Kdp, Q0, V0, Cxe, Cse, Cpe):\n",
        "    # Vazão exponencial\n",
        "    Q = Q0*(np.exp(β*t))\n",
        "    V = V0 + (Q0/β)*np.exp(β*t)\n",
        "    D = Q/V\n",
        "\n",
        "    dCxdt = D*Cxe + (μ-Kd-D)*C[0] #Eq. (5)\n",
        "    dCsdt = D*(Cse - C[1]) - μ*C[0]/Yxs #Eq. (10)\n",
        "    dCpdt = D*(Cpe - C[2]) + α*μ*C[0]+β*C[0]-Kdp*C[2] #Eq. (16)\n",
        "    return (dCxdt, dCsdt, dCpdt)"
      ],
      "metadata": {
        "id": "zTGAUHvz5Nla"
      },
      "execution_count": 69,
      "outputs": []
    },
    {
      "cell_type": "markdown",
      "source": [
        "Integrando e gerando os gráficos:"
      ],
      "metadata": {
        "id": "UsiWoEkMxVcd"
      }
    },
    {
      "cell_type": "code",
      "source": [
        "from scipy.integrate import odeint\n",
        "import matplotlib.pyplot as plt\n",
        "\n",
        "Q = Q0*(np.exp(β*t))\n",
        "Volume = V0 + (Q0/β)*np.exp(β*t)"
      ],
      "metadata": {
        "id": "1fipuROiJngs"
      },
      "execution_count": 76,
      "outputs": []
    },
    {
      "cell_type": "code",
      "source": [
        "Result = odeint(C_Var, C, t, args=(μ, Kd, Yxs, α, β, Kdp, Q0, V0, Cxe, Cse, Cpe))\n",
        "fig, ax1 = plt.subplots()\n",
        "\n",
        "ax1.plot(t, Result[:, 0], label='Cx')\n",
        "ax1.plot(t, Result[:, 1], label='Cs')\n",
        "ax1.plot(t, Result[:, 1], label='Cs')\n",
        "ax1.set_ylabel('Concentracao (t)')\n",
        "ax1.set_ylim([-5, 35])\n",
        "plt.legend(loc='upper right', bbox_to_anchor=(1, 0.9))\n",
        "plt.axhline(0, color = 'r', linestyle = '--')\n",
        "\n",
        "ax2 = ax1.twinx()\n",
        "ax2.plot(t,Volume,label='Volume(t)',  color = 'k')\n",
        "ax2.set_ylabel('Volume (t)')\n",
        "ax2.set_ylim([0, 10])\n",
        "ax1.set_xlabel('Tempo')\n",
        "plt.legend()\n",
        "\n",
        "plt.show()"
      ],
      "metadata": {
        "id": "7viOvM8nezcV",
        "colab": {
          "base_uri": "https://localhost:8080/",
          "height": 283
        },
        "outputId": "4b09fe17-3a4b-4134-ef03-8cac363968cd"
      },
      "execution_count": 91,
      "outputs": [
        {
          "output_type": "display_data",
          "data": {
            "text/plain": [
              "<Figure size 432x288 with 2 Axes>"
            ],
            "image/png": "[encoded data removed]"
          },
          "metadata": {
            "needs_background": "light"
          }
        }
      ]
    }
  ]
}