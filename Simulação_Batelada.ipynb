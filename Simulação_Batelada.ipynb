{
  "nbformat": 4,
  "nbformat_minor": 0,
  "metadata": {
    "colab": {
      "provenance": [],
      "collapsed_sections": [
        "m2MsX58wLu6G",
        "S2uAz83kNDLl",
        "6XCtQwTEMX7j",
        "Ecdj6YqvPVNZ"
      ],
      "toc_visible": true,
      "authorship_tag": "ABX9TyPCzbjxMvmYT0iCXgjjbBYY",
      "include_colab_link": true
    },
    "kernelspec": {
      "name": "python3",
      "display_name": "Python 3"
    },
    "language_info": {
      "name": "python"
    }
  },
  "cells": [
    {
      "cell_type": "markdown",
      "metadata": {
        "id": "view-in-github",
        "colab_type": "text"
      },
      "source": [
        "<a href=\"https://colab.research.google.com/github/VitorMazziero/Processos-Fermentativos/blob/main/Simula%C3%A7%C3%A3o_Batelada.ipynb\" target=\"_parent\"><img src=\"https://colab.research.google.com/assets/colab-badge.svg\" alt=\"Open In Colab\"/></a>"
      ]
    },
    {
      "cell_type": "markdown",
      "source": [
        "#Batelada Simples\n"
      ],
      "metadata": {
        "id": "tZi0cDkxvFIs"
      }
    },
    {
      "cell_type": "markdown",
      "source": [
        "##Balanço de Massa Celular"
      ],
      "metadata": {
        "id": "ObQY8sxXodw9"
      }
    },
    {
      "cell_type": "markdown",
      "source": [
        "Acúmulo = Entra - Sai + Geração - Consumo\n",
        "\n",
        "⠀\n",
        "\n",
        "Para Batelada Simples o balanço geral é simplificado para: \n",
        "\n",
        "\n",
        "> Acúmulo $=$ Geração - Morte\n",
        "\n",
        "⠀⠀⠀⠀⠀⠀⠀⠀⠀$\\therefore$\n",
        "\n",
        "> ⠀⠀⠀$\\frac{\\mathrm{dm_{x}} }{\\mathrm{d} t} = R_{x} - R_{d}$ ⠀⠀⠀⠀⠀⠀⠀⠀⠀⠀⠀⠀⠀⠀⠀⠀⠀ Eq. (1)\n",
        "\n",
        "---\n",
        "Na qual: **Variação mássica celular = $\\frac{\\mathrm{dm_{x}} }{\\mathrm{d} t}$** ; **Geração mássica celular = $R_{x}$** e **Morte Celular** = $R_{d}$\n",
        "\n",
        "---"
      ],
      "metadata": {
        "id": "qL5PiNvkoikO"
      }
    },
    {
      "cell_type": "markdown",
      "source": [
        "Substituindo massa $m_{x}$ pela concentração celular $C_{x}$ utilizando a relação $C_{x}=\\frac{m_{x}}{V}$, a geração celular passa a ser descrita por $r_{x}=\\frac{R_{x}}{V}$ e a morte celular por $r_{d}=\\frac{R_{d}}{V}$. \n",
        "\n",
        "⠀⠀⠀\n",
        "\n",
        "Como na batelada simples não há variação de volume no biorreator, então $\\frac{\\mathrm{dC_{x}V} }{\\mathrm{d} t}\\Rightarrow V\\frac{\\mathrm{dC_{x}} }{\\mathrm{d} t}$. \n",
        "⠀\n",
        "\n",
        "⠀⠀⠀\n",
        "\n",
        "Assim, a variação da concentração celular com o tempo é descrita pela Eq. (2):\n",
        "\n",
        "$\\frac{\\mathrm{dC_{x}V} }{\\mathrm{d} t} = R_{x}\\Rightarrow V\\frac{\\mathrm{dC_{x}} }{\\mathrm{d} t} =r_{x}V - r_{d}V$\n",
        "\n",
        "⠀⠀⠀⠀⠀⠀$\\therefore$\n",
        "> $\\frac{\\mathrm{dC_{x}} }{\\mathrm{d} t} =r_{x} - r_{d}$ ⠀⠀⠀⠀⠀⠀⠀⠀⠀⠀⠀⠀⠀⠀⠀⠀⠀⠀⠀⠀⠀⠀Eq. (2)\n",
        "\n",
        "\n",
        "\n",
        "\n"
      ],
      "metadata": {
        "id": "-oZVk0uTu7Pn"
      }
    },
    {
      "cell_type": "markdown",
      "source": [
        "Uitlizando a relação para reações de primeira ordem tanto para geração de células quanto para a morte:\n",
        "\n",
        "$r_{x}=\\frac{\\mathrm{d}[C] }{\\mathrm{d} t} = k_{1}[C]^{1}$ \n",
        "\n",
        "$r_{d}=-\\frac{\\mathrm{d}[C] }{\\mathrm{d} t} = k_{2}[C]^{1}$ \n",
        "\n",
        "---\n",
        "\n",
        "Na qual: $[C]^{1} = C_{x}$ ; $k_{1}=\\mu$ (taxa de crescimento celular) e $k_{2}=k_{d}$ (taxa de morte celular)\n",
        "\n",
        "---\n"
      ],
      "metadata": {
        "id": "i_MlHoIzybcn"
      }
    },
    {
      "cell_type": "markdown",
      "source": [
        "Chega-se na relação final para a variação da concentração celular:\n",
        "\n",
        "$\\frac{\\mathrm{dC_{x}} }{\\mathrm{d} t} =\\mu C_{x} - k_{d}C_{x}  $\n",
        "\n",
        "⠀⠀\n",
        "> $\\frac{\\mathrm{dC_{x}} }{\\mathrm{d} t} =(\\mu - k_{d})  C_{x}$ ⠀⠀⠀⠀⠀⠀⠀⠀⠀⠀⠀⠀⠀⠀⠀⠀⠀⠀⠀Eq. (3)\n",
        "\n",
        "\n"
      ],
      "metadata": {
        "id": "xDgZgYA_zlDI"
      }
    },
    {
      "cell_type": "markdown",
      "source": [
        "Assim, é definida a função para integração numérica ***Cx_Var*** que descreve a variação de Cx com o tempo"
      ],
      "metadata": {
        "id": "fYUDfKiO5WQR"
      }
    },
    {
      "cell_type": "code",
      "source": [
        "def Cx_Var(Cx, t, μ, kd):\n",
        "    dCxdt = (μ-kd)*Cx #Eq. (3)\n",
        "    return dCxdt"
      ],
      "metadata": {
        "id": "wcTwoUhw5Vd2"
      },
      "execution_count": null,
      "outputs": []
    },
    {
      "cell_type": "markdown",
      "source": [
        "Para $k_{d}$ próximos a zero, rearranja-se e integra-se a Eq. (3):\n",
        "\n",
        "$\\frac{1}{C_{x}}\\frac{\\mathrm{dC_{x}} }{\\mathrm{d} t} =\\mu\n",
        "\\mathrm{d}t\\Rightarrow\\int_{C_{0}}^{C}\\frac{1}{C_{x}}\\frac{\\mathrm{dC_{x}} }{\\mathrm{d} t} =\\int_{t_{0}}^{t}\\mu\n",
        "\\mathrm{d}t $ \n",
        "\n",
        "⠀⠀⠀⠀⠀⠀⠀⠀⠀⠀⠀⠀$\\therefore$\n",
        "⠀\n",
        "> $ln(C_{x}-C_{0})=\\mu (t-t_{0})$⠀⠀⠀⠀⠀⠀⠀⠀⠀⠀⠀⠀⠀⠀ Eq. (4)\n",
        "\n",
        "---\n",
        "Na qual: **Tempo Inicial** $= t_{0}$ e **Concentração inicial** $= C_{0}$ ⠀⠀⠀\n",
        "\n",
        "---"
      ],
      "metadata": {
        "id": "H0wjLv950LJw"
      }
    },
    {
      "cell_type": "markdown",
      "source": [
        "Aplicando exponencial à Eq. (4) chega-se na relação final dada pela equação a seguir:\n",
        "\n",
        "> $C_{x}=C_{0}+e^{\\mu (t-t_{0})}$\n",
        "\n"
      ],
      "metadata": {
        "id": "xd4p53X03M1F"
      }
    },
    {
      "cell_type": "markdown",
      "source": [
        "##Balanço de Massa de Substrato"
      ],
      "metadata": {
        "id": "j9CGridyU1Dq"
      }
    },
    {
      "cell_type": "markdown",
      "source": [
        "Acúmulo = Entra - Sai + Geração - Consumo\n",
        "\n",
        "⠀\n",
        "\n",
        "Para Batelada Simples o balanço geral de substrato é simplificado para: \n",
        "\n",
        "\n",
        "> Acúmulo $=$ $-$Consumo\n",
        "\n",
        "⠀⠀⠀⠀⠀⠀⠀⠀⠀$\\therefore$\n",
        "\n",
        "> $\\frac{\\mathrm{dm_{s}} }{\\mathrm{d} t} = -R_{s} = -r_{s}V$ ⠀⠀⠀⠀⠀⠀⠀⠀⠀⠀⠀⠀⠀⠀⠀⠀⠀ Eq. (5)\n",
        "\n",
        "---\n",
        "Na qual: **Variação mássica de substrato = $\\frac{\\mathrm{dm_{s}} }{\\mathrm{d} t}$** e **Consumo de substrato = $R_{s}$**\n",
        "\n",
        "---"
      ],
      "metadata": {
        "id": "geSOL-RTU6lP"
      }
    },
    {
      "cell_type": "markdown",
      "source": [
        "De modo análogo a concentração celular, a variação da concentração de substrato é ditada pela taxa $r_{s}$, que é expressa pela Eq. (6):\n",
        "\n",
        "\n",
        "$V\\frac{\\mathrm{dC_{s}} }{\\mathrm{d} t}=-r_{s}V$ ⠀⠀⠀⠀⠀⠀⠀⠀⠀⠀⠀⠀⠀⠀⠀⠀⠀⠀⠀⠀⠀⠀⠀⠀⠀Eq. (6)\n",
        "\n",
        "⠀\n",
        "\n",
        "Para relacionar o consumo de substrato com a formação celular, é necessário definir o **rendimento de crescimento celular** $Y_{\\frac{x}{s}}$ (a quantidade de célula que é formada por substrato consumido): \n",
        "\n",
        "\n",
        "$Y_{\\frac{x}{s}} = \\frac{r_{x}}{r_{s}}$ ⠀⠀⠀⠀⠀⠀⠀⠀⠀⠀⠀⠀⠀⠀⠀⠀⠀⠀⠀⠀⠀⠀⠀⠀⠀⠀⠀⠀⠀⠀Eq. (7)\n"
      ],
      "metadata": {
        "id": "TCv51c_VV8V6"
      }
    },
    {
      "cell_type": "markdown",
      "source": [
        "Assim, a variação da concentração de substrato pode ser descrita em função da concentração celular naquele instante, como descrito a seguir:\n",
        "⠀⠀⠀⠀⠀⠀⠀⠀⠀⠀\n",
        "\n",
        ">$\\frac{\\mathrm{dC_{s}} }{\\mathrm{d} t} =-\\frac{r_{x}}{Y_{\\frac{x}{s}}}\\Rightarrow -\\frac{\\mu C_{x}}{Y_{\\frac{x}{s}}}$            ⠀⠀⠀⠀⠀⠀⠀⠀⠀⠀⠀⠀⠀⠀⠀⠀⠀Eq. (8)"
      ],
      "metadata": {
        "id": "5BtnrRR6kxxo"
      }
    },
    {
      "cell_type": "markdown",
      "source": [
        "Portanto, a função para integração numérica ***Cs_Var*** que descreve a variação de Cs com o tempo passa a ser dada por:"
      ],
      "metadata": {
        "id": "6KQezw-KmIFb"
      }
    },
    {
      "cell_type": "code",
      "source": [
        "def Cs_Var(Cx, t, μ, kd):\n",
        "    dCsdt = -μ*Cx/Yxs #Eq. (8)\n",
        "    return dCsdt"
      ],
      "metadata": {
        "id": "w3aXZYq6bqAe"
      },
      "execution_count": null,
      "outputs": []
    },
    {
      "cell_type": "markdown",
      "source": [
        "##Balanço de Massa de Produto "
      ],
      "metadata": {
        "id": "tdBnDjjFr4NG"
      }
    },
    {
      "cell_type": "markdown",
      "source": [
        "Acúmulo = Entra - Sai + Geração - Consumo\n",
        "\n",
        "⠀\n",
        "\n",
        "Para Batelada Simples o balanço geral de produto é simplificado para: \n",
        "\n",
        "\n",
        "> Acúmulo $=$ Gerado\n",
        "\n",
        "⠀⠀⠀⠀⠀⠀⠀⠀⠀$\\therefore$\n",
        "\n",
        "> $\\frac{\\mathrm{dm_{p}} }{\\mathrm{d} t} = R_{p} = r_{p}V$ ⠀⠀⠀⠀⠀⠀⠀⠀⠀⠀⠀⠀⠀⠀⠀⠀⠀⠀⠀⠀ Eq. (9)\n",
        "\n",
        "---\n",
        "Na qual: **Variação mássica de produto = $\\frac{\\mathrm{dm_{p}} }{\\mathrm{d} t}$** e **Geração de produto = $R_{p}$**\n",
        "\n",
        "---"
      ],
      "metadata": {
        "id": "5sNKTps2r_es"
      }
    },
    {
      "cell_type": "markdown",
      "source": [
        "De modo análogo a concentração celular, a variação da concentração de produto é ditada pela taxa $r_{p}$, que é expressa pela Eq. (10):\n",
        "\n",
        "⠀\n",
        "\n",
        "$\\frac{\\mathrm{dC_{p}} }{\\mathrm{d} t}=r_{p}$ ⠀⠀⠀⠀⠀⠀⠀⠀⠀⠀⠀⠀⠀⠀⠀⠀⠀⠀⠀⠀⠀⠀⠀⠀⠀⠀⠀⠀⠀⠀Eq. (10)\n",
        "\n",
        "⠀\n",
        "\n",
        "Para relacionar a geração de produto com a formação celular, é necessário definir seu tipo de geração, que afetará o valor da taxa de formação do produto ($r_{p})$, na qual $\\alpha$ e $\\beta$ são constantes:\n",
        "⠀\n",
        "\n",
        "⠀\n",
        "\n",
        ">**Associado ao crescimento:** ⠀$r_{p} = \\alpha \\mu C_{x}$  ⠀⠀⠀⠀⠀⠀⠀⠀⠀⠀⠀⠀⠀⠀⠀⠀⠀⠀⠀⠀⠀⠀⠀⠀⠀⠀⠀⠀⠀Eq. (11)\n",
        "⠀\n",
        "\n",
        "⠀\n",
        "\n",
        ">**Não associado ao crescimento:** ⠀$r_{p} = \\beta C_{x}$ ⠀⠀⠀⠀⠀⠀⠀⠀⠀⠀⠀⠀⠀⠀⠀⠀⠀⠀⠀⠀⠀⠀⠀⠀⠀⠀⠀Eq. (12)\n",
        "\n",
        "⠀\n",
        "\n",
        ">**Parcialmente associado ao crescimento:** ⠀$r_{p} =\\alpha \\mu C_{x} + \\beta C_{x}$ ⠀⠀⠀⠀⠀⠀⠀⠀⠀⠀⠀⠀⠀⠀Eq. (13)\n"
      ],
      "metadata": {
        "id": "leDNwWyvscgF"
      }
    },
    {
      "cell_type": "markdown",
      "source": [
        "Portanto, a função para integração numérica ***Cp_Var*** que descreve a variação de Cp com o tempo passa a ser dada pela função abaixo, na qual a definição das variáveis $\\alpha \\geq 0 $ ou $\\beta \\geq 0$ indicarão o tipo de geração do produto:"
      ],
      "metadata": {
        "id": "OO6wHYLLvi6J"
      }
    },
    {
      "cell_type": "code",
      "source": [
        "def Cp_Var(Cp, t, α, β):\n",
        "    dCpdt = α*μ*C[0]+β*C[0] # Eq (13)\n",
        "    return dCpdt"
      ],
      "metadata": {
        "id": "TdwZkLwOvhk3"
      },
      "execution_count": null,
      "outputs": []
    },
    {
      "cell_type": "markdown",
      "source": [
        "##Simulação da variação da concentração para μ constante\n",
        "\n"
      ],
      "metadata": {
        "id": "DmwVAmBh47KQ"
      }
    },
    {
      "cell_type": "markdown",
      "source": [
        "Definindo as condições iniciais:"
      ],
      "metadata": {
        "id": "vM8jMNOGxeGO"
      }
    },
    {
      "cell_type": "code",
      "source": [
        "# Simulação - μ constante\n",
        "\n",
        "# -*- coding: utf-8 -*-\n",
        "\"\"\"\n",
        "Created on Wed Sep  7 15:36:42 2022\n",
        "\n",
        "@author: Vítor Teixeira Mazziero - UNESP Araraquara\n",
        "\"\"\"\n",
        "\n",
        "import numpy as np\n",
        "\n",
        "# Condições iniciais\n",
        "Cx0 = 1.5 # Concentração inicial de células (inóculo) - C[0]\n",
        "Cs0 = 30 # Concentração inicial de substrato - C[1]\n",
        "Cp0 = 0 # Concentração inicial de produto - - C[2]\n",
        "\n",
        "C = [Cx0, Cs0, Cp0]\n",
        "\n",
        "# Parâmetros para crescimento celular\n",
        "μmax = μ = 0.25\n",
        "Kd = 0.05\n",
        "\n",
        "# Parâmetros para consumo de substrato\n",
        "Yxs = 0.2\n",
        "\n",
        "# Parâmetros para formação de produto\n",
        "α = 0.25\n",
        "β = 0"
      ],
      "metadata": {
        "id": "IsGCugxc5Irp"
      },
      "execution_count": null,
      "outputs": []
    },
    {
      "cell_type": "markdown",
      "source": [
        "Criando o vetor de tempo para os limites de integração:"
      ],
      "metadata": {
        "id": "iYP4csTLxXVH"
      }
    },
    {
      "cell_type": "code",
      "source": [
        "# Vetor tempo\n",
        "t=np.arange(0,12.6, 0.1) # Variação do tempo\n",
        "print(t)"
      ],
      "metadata": {
        "colab": {
          "base_uri": "https://localhost:8080/"
        },
        "id": "CgldYMZoWpvY",
        "outputId": "0552dac3-29d9-47f5-85c1-637c00542ad3"
      },
      "execution_count": null,
      "outputs": [
        {
          "output_type": "stream",
          "name": "stdout",
          "text": [
            "[ 0.   0.1  0.2  0.3  0.4  0.5  0.6  0.7  0.8  0.9  1.   1.1  1.2  1.3\n",
            "  1.4  1.5  1.6  1.7  1.8  1.9  2.   2.1  2.2  2.3  2.4  2.5  2.6  2.7\n",
            "  2.8  2.9  3.   3.1  3.2  3.3  3.4  3.5  3.6  3.7  3.8  3.9  4.   4.1\n",
            "  4.2  4.3  4.4  4.5  4.6  4.7  4.8  4.9  5.   5.1  5.2  5.3  5.4  5.5\n",
            "  5.6  5.7  5.8  5.9  6.   6.1  6.2  6.3  6.4  6.5  6.6  6.7  6.8  6.9\n",
            "  7.   7.1  7.2  7.3  7.4  7.5  7.6  7.7  7.8  7.9  8.   8.1  8.2  8.3\n",
            "  8.4  8.5  8.6  8.7  8.8  8.9  9.   9.1  9.2  9.3  9.4  9.5  9.6  9.7\n",
            "  9.8  9.9 10.  10.1 10.2 10.3 10.4 10.5 10.6 10.7 10.8 10.9 11.  11.1\n",
            " 11.2 11.3 11.4 11.5 11.6 11.7 11.8 11.9 12.  12.1 12.2 12.3 12.4 12.5]\n"
          ]
        }
      ]
    },
    {
      "cell_type": "markdown",
      "source": [
        "Unindo as funções Cx_Var, Cs_Var e Cp_Var descritas anteriormente em **C_Var** :"
      ],
      "metadata": {
        "id": "rg_-JKx2xJWV"
      }
    },
    {
      "cell_type": "code",
      "source": [
        "def C_Var(C, t, μ, Kd, Yxs, α, β):\n",
        "    dCxdt = (μ-Kd)*C[0] #Eq. (3)\n",
        "    dCsdt = - (μ*C[0]/Yxs) #Eq. (8)\n",
        "    dCpdt = α*μ*C[0]+β*C[0] #Eq. (13)\n",
        "    return (dCxdt, dCsdt, dCpdt)"
      ],
      "metadata": {
        "id": "zTGAUHvz5Nla"
      },
      "execution_count": null,
      "outputs": []
    },
    {
      "cell_type": "markdown",
      "source": [
        "Integrando e gerando os gráficos:"
      ],
      "metadata": {
        "id": "UsiWoEkMxVcd"
      }
    },
    {
      "cell_type": "code",
      "source": [
        "from scipy.integrate import odeint\n",
        "import matplotlib.pyplot as plt\n",
        "\n",
        "Result = odeint(C_Var, C, t, args=(μ, Kd, Yxs, α, β))\n",
        "\n",
        "plt.plot(t, Result[:, 0], label='Cx')\n",
        "plt.plot(t, Result[:, 1], label='Cs')\n",
        "plt.plot(t, Result[:, 2], label='Cp')\n",
        "plt.axhline(0, color = 'r', linestyle = '--')\n",
        "plt.ylim([-10, 35])\n",
        "plt.xlabel('Tempo')\n",
        "plt.ylabel('Concentração')\n",
        "plt.legend()\n",
        "plt.show()"
      ],
      "metadata": {
        "colab": {
          "base_uri": "https://localhost:8080/",
          "height": 283
        },
        "id": "7MWmGZhN51MH",
        "outputId": "60d4f42c-fea5-4c00-ff81-015c8b6ad648"
      },
      "execution_count": null,
      "outputs": [
        {
          "output_type": "display_data",
          "data": {
            "text/plain": [
              "<Figure size 432x288 with 1 Axes>"
            ],
            "image/png": "[encoded data removed]"
          },
          "metadata": {
            "needs_background": "light"
          }
        }
      ]
    },
    {
      "cell_type": "markdown",
      "source": [
        "##Simulação da variação da concentração para μ variável"
      ],
      "metadata": {
        "id": "Zw4Ut8MngzvA"
      }
    },
    {
      "cell_type": "markdown",
      "source": [
        "Como observado para μ constante, limitações físicas relacionadas a disponibilidade limitada de nutrientes não são respeitadas pelo modelo, nas quais concentrações negativas de substrato são consideradas.\n",
        "\n",
        "> Para ter em conta tais limitações físicas, diversos modelos foram propostos pela literatura na qual substituem a taxa de crescimento constante ($\\mu$) por uma função dependente da taxa máxima de crescimento microbiano ($\\mu_{max}$).\n",
        "\n",
        "\n"
      ],
      "metadata": {
        "id": "JlUnEFfUg2Vv"
      }
    },
    {
      "cell_type": "markdown",
      "source": [
        "### Modelos para simulação **sem inibição**"
      ],
      "metadata": {
        "id": "_vXN4IPXEhyg"
      }
    },
    {
      "cell_type": "markdown",
      "source": [
        "#### (Monod, 1949) "
      ],
      "metadata": {
        "id": "AyEZcPfHjbgv"
      }
    },
    {
      "cell_type": "markdown",
      "source": [
        "Descrito em: *Monod, Jacques (1949). \"The growth of bacterial cultures\". Annual Review of Microbiology. 3: 371–394. DOI: [10.1146/annurev.mi.03.100149.002103](https://https://www.annualreviews.org/doi/10.1146/annurev.mi.03.100149.002103)* o modelo de Monod é dado pela Eq. (14):\n",
        "\n",
        "⠀\n",
        "\n",
        "$\\mu = \\frac{\\mu_{max}C_{s} }{K_{s}+C_{s}}$ ⠀⠀⠀⠀⠀⠀⠀⠀⠀⠀⠀⠀⠀⠀⠀⠀⠀⠀⠀⠀⠀⠀⠀⠀⠀⠀⠀⠀⠀⠀⠀Eq. (14)\n",
        "\n",
        "⠀\n",
        "\n",
        "A variação da concetração celular e de substrato passam a ser descritas pelas equações a seguir:\n",
        "\n",
        "$\\frac{\\mathrm{dC_{x}} }{\\mathrm{d} t} = \\frac{\\mu_{max}C_{s} }{K_{s}+C_{s}}C_{x}$ ⠀⠀⠀⠀⠀⠀⠀⠀⠀⠀⠀⠀⠀⠀⠀⠀⠀⠀⠀⠀⠀⠀⠀⠀⠀⠀⠀Eq. (15)\n",
        "\n",
        "\n",
        "$\\frac{\\mathrm{dC_{s}} }{\\mathrm{d} t} = -\\frac{\\mu_{max}C_{s} }{K_{s}+C_{s}}\\frac{C_{x}}{Y_{\\frac{x}{s}}}$ ⠀⠀⠀⠀⠀⠀⠀⠀⠀⠀⠀⠀⠀⠀⠀⠀⠀⠀⠀⠀⠀⠀⠀⠀⠀Eq. (16)"
      ],
      "metadata": {
        "id": "D6q4ACEDj-Ct"
      }
    },
    {
      "cell_type": "code",
      "source": [
        "# Simulação - (Monod, 1949)\n",
        "\n",
        "# -*- coding: utf-8 -*-\n",
        "\"\"\"\n",
        "Created on Wed Sep  7 15:36:42 2022\n",
        "\n",
        "@author: Vítor Teixeira Mazziero - UNESP Araraquara\n",
        "\"\"\"\n",
        "\n",
        "import numpy as np\n",
        "import matplotlib.pyplot as plt\n",
        "from scipy.integrate import odeint\n",
        "\n",
        "# Condições iniciais\n",
        "Cx0 = 1.5 # Concentração inicial de células (inóculo) - C[0]\n",
        "Cs0 = 30 # Concentração inicial de substrato - C[1]\n",
        "Cp0 = 0 # Concentração inicial de produto - - C[2]\n",
        "\n",
        "C = [Cx0, Cs0, Cp0]\n",
        "\n",
        "# Parâmetros para crescimento celular\n",
        "μmax = 0.35\n",
        "Ks = 0.75 # Constante de meia saturação\n",
        "Kd = 0\n",
        "\n",
        "# Parâmetros para consumo de substrato\n",
        "Yxs = 0.5 \n",
        "\n",
        "# Parâmetros para formação de produto\n",
        "α = 0.5\n",
        "β = 0\n",
        "\n",
        "# Vetor tempo\n",
        "t=np.arange(0,12.6, 0.1) # Variação do tempo\n",
        "\n",
        "def C_Var(C, t, μmax, Ks, Kd, Yxs, α, β):\n",
        "    μ = μmax*(C[1]/(Ks+C[1])) #Eq. ()\n",
        "    dCxdt = (μ-Kd)*C[0] \n",
        "    dCsdt = - (μ*C[0]/Yxs)\n",
        "    dCpdt = α*μ*C[0]+β*C[0]\n",
        "    return (dCxdt, dCsdt, dCpdt)\n",
        "\n",
        "Result = odeint(C_Var, C, t, args=(μmax, Ks, Kd, Yxs, α, β))\n",
        "\n",
        "plt.plot(t, Result[:, 0], label='Cx')\n",
        "plt.plot(t, Result[:, 1], label='Cs')\n",
        "plt.plot(t, Result[:, 2], label='Cp')\n",
        "plt.ylim([-5, 35])\n",
        "plt.xlabel('Tempo')\n",
        "plt.ylabel('Concentração')\n",
        "plt.legend()\n",
        "plt.show()"
      ],
      "metadata": {
        "colab": {
          "base_uri": "https://localhost:8080/",
          "height": 283
        },
        "id": "SM_lfWdBl6lE",
        "outputId": "a2eb84fc-11e6-44dc-dc71-0000e9502d90"
      },
      "execution_count": null,
      "outputs": [
        {
          "output_type": "display_data",
          "data": {
            "text/plain": [
              "<Figure size 432x288 with 1 Axes>"
            ],
            "image/png": "[encoded data removed]"
          },
          "metadata": {
            "needs_background": "light"
          }
        }
      ]
    },
    {
      "cell_type": "markdown",
      "source": [
        "#### (Moser, 1958)"
      ],
      "metadata": {
        "id": "2hS2xolIy654"
      }
    },
    {
      "cell_type": "markdown",
      "source": [
        "Descrito em: *Moser, H., 1958. The dynamics of bacterial populations maintained in the chemostat. The dynamics of bacterial populations maintained in the chemostat. pp.136. DOI: [10.1101/sqb.1957.022.01.015](http://symposium.cshlp.org/content/22/121) . Carnegie Institution of Washington.* o modelo de Moser é dado pela Eq. (17):\n",
        "\n",
        "⠀\n",
        "\n",
        "$\\mu = \\frac{\\mu_{max}C_{s}^{n} }{K_{s}+C_{s}^{n}}$ ⠀⠀⠀⠀⠀⠀⠀⠀⠀⠀⠀⠀⠀⠀⠀⠀⠀⠀⠀⠀⠀⠀⠀⠀⠀⠀⠀⠀⠀⠀⠀⠀Eq. (17)\n",
        "\n",
        "⠀\n",
        "\n",
        "A variação da concetração celular e de substrato passam a ser descritas pelas equações a seguir:\n",
        "\n",
        "$\\frac{\\mathrm{dC_{x}} }{\\mathrm{d} t} = \\frac{\\mu_{max}C_{s}^{n} }{K_{s}+C_{s}^{n}}$ ⠀⠀⠀⠀⠀⠀⠀⠀⠀⠀⠀⠀⠀⠀⠀⠀⠀⠀⠀⠀⠀⠀⠀⠀⠀⠀⠀⠀⠀⠀Eq. (18)\n",
        "\n",
        "\n",
        "$\\frac{\\mathrm{dC_{s}} }{\\mathrm{d} t} = -\\frac{\\mu_{max}C_{s}^{n} }{K_{s}+C_{s}^{n}}$⠀⠀⠀⠀⠀⠀⠀⠀⠀⠀⠀⠀⠀⠀⠀⠀⠀⠀⠀⠀⠀⠀⠀⠀⠀⠀⠀⠀⠀Eq. (19)"
      ],
      "metadata": {
        "id": "rSeFCKAQy657"
      }
    },
    {
      "cell_type": "code",
      "source": [
        "# Simulação - (Moser, 1958)\n",
        "\n",
        "# -*- coding: utf-8 -*-\n",
        "\"\"\"\n",
        "Created on Wed Sep  7 15:36:42 2022\n",
        "\n",
        "@author: Vítor Teixeira Mazziero - UNESP Araraquara\n",
        "\"\"\"\n",
        "\n",
        "import numpy as np\n",
        "import matplotlib.pyplot as plt\n",
        "from scipy.integrate import odeint\n",
        "\n",
        "# Condições iniciais\n",
        "Cx0 = 1.5 # Concentração inicial de células (inóculo) - C[0]\n",
        "Cs0 = 30 # Concentração inicial de substrato - C[1]\n",
        "Cp0 = 0 # Concentração inicial de produto - - C[2]\n",
        "\n",
        "C = [Cx0, Cs0, Cp0]\n",
        "\n",
        "# Parâmetros para crescimento celular\n",
        "μmax = 0.35\n",
        "Ks = 0.75\n",
        "Kd = 0.05\n",
        "\n",
        "# Parâmetros para consumo de substrato\n",
        "Yxs = 0.5\n",
        "\n",
        "#Parâmetro de ajuste\n",
        "n = 1.25\n",
        "\n",
        "# Parâmetros para formação de produto\n",
        "α = 0.5\n",
        "β = 0\n",
        "\n",
        "# Vetor tempo\n",
        "t=np.arange(0,12.6, 0.1) # Variação do tempo\n",
        "\n",
        "def C_Var(C, t, μmax, n, Ks, Kd, Yxs, α, β):\n",
        "    μ=((μmax*(C[1])**n))/(Ks+(C[1])**n) #Eq. (17) \n",
        "    dCxdt = (μ-Kd)*C[0] \n",
        "    dCsdt = - (μ*C[0]/Yxs)\n",
        "    dCpdt = α*μ*C[0]+β*C[0]\n",
        "    return (dCxdt, dCsdt, dCpdt)\n",
        "\n",
        "Result = odeint(C_Var, C, t, args=(μmax, n, Ks, Kd, Yxs, α, β))\n",
        "\n",
        "plt.plot(t, Result[:, 0], label='Cx')\n",
        "plt.plot(t, Result[:, 1], label='Cs')\n",
        "plt.plot(t, Result[:, 2], label='Cp')\n",
        "plt.ylim([-5, 35])\n",
        "plt.xlabel('Tempo')\n",
        "plt.ylabel('Concentração')\n",
        "plt.legend()\n",
        "plt.show()"
      ],
      "metadata": {
        "colab": {
          "base_uri": "https://localhost:8080/",
          "height": 283
        },
        "outputId": "3e5e3f5b-65fb-4994-c854-1f2bbc405c51",
        "id": "cGElGNSxy66A"
      },
      "execution_count": null,
      "outputs": [
        {
          "output_type": "display_data",
          "data": {
            "text/plain": [
              "<Figure size 432x288 with 1 Axes>"
            ],
            "image/png": "[encoded data removed]"
          },
          "metadata": {
            "needs_background": "light"
          }
        }
      ]
    },
    {
      "cell_type": "markdown",
      "source": [
        "#### (Contois, 1959)"
      ],
      "metadata": {
        "id": "_1v5KrWUokGY"
      }
    },
    {
      "cell_type": "markdown",
      "source": [
        "Descrito em: *Contois, D. E. (1959).Kinetics of Bacterial Growth: Relationship between Population Density and Specific Growth Rate of Continuous Cultures J . gen. Microbial. 21: 40-50. DOI: [10.1099/00221287-21-1-40](https://https://www.microbiologyresearch.org/content/journal/micro/10.1099/00221287-21-1-40)* o modelo de Contois é dado pela Eq. (20):\n",
        "\n",
        "⠀\n",
        "\n",
        "$\\mu = \\frac{\\mu_{max}C_{s} }{C_{s}K_{s}+C_{s}}$ ⠀⠀⠀⠀⠀⠀⠀⠀⠀⠀⠀⠀⠀⠀⠀⠀⠀⠀⠀⠀⠀⠀⠀⠀⠀⠀⠀⠀⠀⠀⠀Eq. (20)\n",
        "\n",
        "⠀\n",
        "\n",
        "A variação da concetração celular e de substrato passam a ser descritas pelas equações a seguir:\n",
        "\n",
        "$\\frac{\\mathrm{dC_{x}} }{\\mathrm{d} t} = \\frac{\\mu_{max}C_{s} }{C_{s}K_{s}+C_{s}}C_{x}$ ⠀⠀⠀⠀⠀⠀⠀⠀⠀⠀⠀⠀⠀⠀⠀⠀⠀⠀⠀⠀⠀⠀⠀⠀⠀⠀⠀Eq. (21)\n",
        "\n",
        "\n",
        "$\\frac{\\mathrm{dC_{s}} }{\\mathrm{d} t} = -\\frac{\\mu_{max}C_{s} }{C_{s}K_{s}+C_{s}}\\frac{C_{x}}{Y_{\\frac{x}{s}}}$ ⠀⠀⠀⠀⠀⠀⠀⠀⠀⠀⠀⠀⠀⠀⠀⠀⠀⠀⠀⠀⠀⠀⠀⠀⠀Eq. (22)"
      ],
      "metadata": {
        "id": "NxFeXAqNokGZ"
      }
    },
    {
      "cell_type": "code",
      "source": [
        "# Simulação - (Contois, 1959)\n",
        "\n",
        "# -*- coding: utf-8 -*-\n",
        "\"\"\"\n",
        "Created on Wed Sep  7 15:36:42 2022\n",
        "\n",
        "@author: Vítor Teixeira Mazziero - UNESP Araraquara\n",
        "\"\"\"\n",
        "\n",
        "import numpy as np\n",
        "import matplotlib.pyplot as plt\n",
        "from scipy.integrate import odeint\n",
        "\n",
        "# Condições iniciais\n",
        "Cx0 = 1.5 # Concentração inicial de células (inóculo) - C[0]\n",
        "Cs0 = 30 # Concentração inicial de substrato - C[1]\n",
        "Cp0 = 0 # Concentração inicial de produto - - C[2]\n",
        "\n",
        "C = [Cx0, Cs0, Cp0]\n",
        "\n",
        "# Parâmetros para crescimento celular\n",
        "μmax = 0.35\n",
        "Ks = 0.75\n",
        "Kd = 0\n",
        "\n",
        "# Parâmetros para consumo de substrato\n",
        "Yxs = 0.5\n",
        "\n",
        "# Parâmetros para formação de produto\n",
        "α = 0.5\n",
        "β = 0.1\n",
        "\n",
        "# Vetor tempo\n",
        "t=np.arange(0,12.6, 0.1) # Variação do tempo\n",
        "\n",
        "def C_Var(C, t, μmax, Ks, Kd, Yxs, α, β):\n",
        "    μ=μmax*(C[1]/(Ks*C[0]+C[1])) #Eq. (20)\n",
        "    dCxdt = (μ-Kd)*C[0] \n",
        "    dCsdt = - (μ*C[0]/Yxs)\n",
        "    dCpdt = α*μ*C[0]+β*C[0]\n",
        "    return (dCxdt, dCsdt, dCpdt)\n",
        "\n",
        "Result = odeint(C_Var, C, t, args=(μmax, Ks, Kd, Yxs, α, β))\n",
        "\n",
        "plt.plot(t, Result[:, 0], label='Cx')\n",
        "plt.plot(t, Result[:, 1], label='Cs')\n",
        "plt.plot(t, Result[:, 2], label='Cp')\n",
        "plt.ylim([-5, 35])\n",
        "plt.xlabel('Tempo')\n",
        "plt.ylabel('Concentração')\n",
        "plt.legend()\n",
        "plt.show()"
      ],
      "metadata": {
        "colab": {
          "base_uri": "https://localhost:8080/",
          "height": 283
        },
        "outputId": "e6d37cde-a405-481d-c1bc-178faa20b09b",
        "id": "wg5kDbvNokGb"
      },
      "execution_count": null,
      "outputs": [
        {
          "output_type": "display_data",
          "data": {
            "text/plain": [
              "<Figure size 432x288 with 1 Axes>"
            ],
            "image/png": "[encoded data removed]"
          },
          "metadata": {
            "needs_background": "light"
          }
        }
      ]
    },
    {
      "cell_type": "markdown",
      "source": [
        "#### (Teissier, 1942)"
      ],
      "metadata": {
        "id": "wsWYoY9DKhgG"
      }
    },
    {
      "cell_type": "markdown",
      "source": [
        "Descrito em: *G. Teissier, Growth of bacterial populations and the available substrate concentration, Rev. Sci. Instrum., 1942, 3208, 209–214* o modelo de Teisseir é dado pela Eq. (24):\n",
        "\n",
        "⠀\n",
        "\n",
        "$\\mu = {\\mu_{max}(1- e^{^{-\\frac{C_{s}}{K_{T}}}}})$ ⠀⠀⠀⠀⠀⠀⠀⠀⠀⠀⠀⠀⠀⠀⠀⠀⠀⠀⠀⠀⠀⠀⠀⠀⠀⠀⠀   ⠀⠀⠀⠀Eq. (24)\n",
        "\n",
        "⠀\n",
        "\n",
        "A variação da concetração celular e de substrato passam a ser descritas pelas equações a seguir:\n",
        "\n",
        "$\\frac{\\mathrm{dC_{x}} }{\\mathrm{d} t} = ({\\mu_{max}(1- e^{^{-\\frac{C_{s}}{K_{T}}}}})-K{d})C_{x}$ ⠀⠀⠀⠀⠀⠀⠀⠀⠀⠀⠀⠀⠀⠀⠀⠀⠀⠀⠀⠀⠀Eq. (25)\n",
        "\n",
        "\n",
        "$\\frac{\\mathrm{dC_{s}} }{\\mathrm{d} t} = -{\\mu_{max}(1- e^{^{\\frac{C_{s}}{K_{T}}}}})\\frac{C_{x}}{Y_{\\frac{x}{s}}}$⠀⠀⠀⠀⠀⠀⠀⠀⠀⠀⠀⠀⠀⠀⠀⠀⠀⠀⠀⠀⠀⠀⠀⠀⠀⠀⠀Eq. (26)"
      ],
      "metadata": {
        "id": "cRV_viEyKhgH"
      }
    },
    {
      "cell_type": "code",
      "source": [
        "# Simulação - (Teissier, 1942)\n",
        "\n",
        "# -*- coding: utf-8 -*-\n",
        "\"\"\"\n",
        "Created on Wed Sep  7 15:36:42 2022\n",
        "\n",
        "@author: Vítor Teixeira Mazziero - UNESP Araraquara\n",
        "\"\"\"\n",
        "\n",
        "import numpy as np\n",
        "import matplotlib.pyplot as plt\n",
        "from scipy.integrate import odeint\n",
        "\n",
        "# Condições iniciais\n",
        "Cx0 = 1.5 # Concentração inicial de células (inóculo) - C[0]\n",
        "Cs0 = 30 # Concentração inicial de substrato - C[1]\n",
        "Cp0 = 0 # Concentração inicial de produto - - C[2]\n",
        "\n",
        "C = [Cx0, Cs0, Cp0]\n",
        "\n",
        "# Parâmetros para crescimento celular\n",
        "μmax = 0.35\n",
        "Kd = 0\n",
        "\n",
        "# Parâmetro de ajuste\n",
        "KT = 5\n",
        "\n",
        "# Parâmetros para consumo de substrato\n",
        "Yxs = 0.5\n",
        "\n",
        "# Parâmetros para formação de produto\n",
        "α = 0.5\n",
        "β = 0\n",
        "\n",
        "# Vetor tempo\n",
        "t=np.arange(0,12.6, 0.1) # Variação do tempo\n",
        "\n",
        "def C_Var(C, t, μmax, KT, Kd, Yxs, α, β):\n",
        "    μ=μmax*(1 - np.exp(-C[1]/KT)) #Eq. (24)\n",
        "    dCxdt = (μ-Kd)*C[0] \n",
        "    dCsdt = - (μ*C[0]/Yxs)\n",
        "    dCpdt = α*μ*C[0]+β*C[0]\n",
        "    return (dCxdt, dCsdt, dCpdt)\n",
        "\n",
        "Result = odeint(C_Var, C, t, args=(μmax, KT, Kd, Yxs, α, β))\n",
        "\n",
        "plt.plot(t, Result[:, 0], label='Cx')\n",
        "plt.plot(t, Result[:, 1], label='Cs')\n",
        "plt.plot(t, Result[:, 2], label='Cp')\n",
        "plt.ylim([-5, 35])\n",
        "plt.xlabel('Tempo')\n",
        "plt.ylabel('Concentração')\n",
        "plt.legend()\n",
        "plt.show()"
      ],
      "metadata": {
        "colab": {
          "base_uri": "https://localhost:8080/",
          "height": 283
        },
        "outputId": "8d0db08f-df1b-4d15-d49b-dc5529ec172c",
        "id": "HkQ-62UMKhgI"
      },
      "execution_count": null,
      "outputs": [
        {
          "output_type": "display_data",
          "data": {
            "text/plain": [
              "<Figure size 432x288 with 1 Axes>"
            ],
            "image/png": "[encoded data removed]"
          },
          "metadata": {
            "needs_background": "light"
          }
        }
      ]
    },
    {
      "cell_type": "markdown",
      "source": [
        "### Modelos para simulação com **inibição por substrato**"
      ],
      "metadata": {
        "id": "O1M34ctLHB1g"
      }
    },
    {
      "cell_type": "markdown",
      "source": [
        "#### (Andrews, 1968)"
      ],
      "metadata": {
        "id": "Idoj_6MkPB4s"
      }
    },
    {
      "cell_type": "markdown",
      "source": [
        "Descrito em: *Andrews, J. F. (1968). A mathematical model for the continuous culture of microorganisms utilizing inhibitory substrates. Biotechnology and Bioengineering, 10(6), 707–723. DOI: [10.1002/bit.260100602](https://onlinelibrary.wiley.com/doi/abs/10.1002/bit.260100602)* o modelo de Andrews é dado pela Eq. (27):\n",
        "\n",
        "⠀\n",
        "\n",
        "$\\mu = \\frac{\\mu_{max}C_{s} }{C_{s} + K_{s} + \\frac{C_{s}^{2}}{K_{is}}}$ ⠀⠀⠀⠀⠀⠀⠀⠀⠀⠀⠀⠀⠀⠀⠀⠀⠀⠀⠀⠀⠀⠀⠀⠀⠀⠀⠀⠀⠀⠀⠀Eq. (27)\n",
        "\n",
        "⠀\n",
        "\n",
        "A variação da concetração celular e de substrato passam a ser descritas pelas equações a seguir:\n",
        "\n",
        "$\\frac{\\mathrm{dC_{x}} }{\\mathrm{d} t} = \\frac{\\mu_{max}C_{s} }{C_{s} + K_{s} + \\frac{C_{s}^{2}}{K_{is}}}C_{x}$ ⠀⠀⠀⠀⠀⠀⠀⠀⠀⠀⠀⠀⠀⠀⠀⠀⠀⠀⠀⠀⠀⠀⠀⠀⠀⠀⠀Eq. (28)\n",
        "\n",
        "\n",
        "$\\frac{\\mathrm{dC_{s}} }{\\mathrm{d} t} = -\\frac{\\mu_{max}C_{s} }{C_{s} + K_{s} + \\frac{C_{s}^{2}}{K_{is}}}\\frac{C_{x}}{Y_{\\frac{x}{s}}}$ ⠀⠀⠀⠀⠀⠀⠀⠀⠀⠀⠀⠀⠀⠀⠀⠀⠀⠀⠀⠀⠀⠀⠀⠀⠀Eq. (29)"
      ],
      "metadata": {
        "id": "J_y7swaoPB4u"
      }
    },
    {
      "cell_type": "code",
      "source": [
        "# Simulação - (Andrews, 1968)\n",
        "\n",
        "# -*- coding: utf-8 -*-\n",
        "\"\"\"\n",
        "Created on Wed Sep  7 15:36:42 2022\n",
        "\n",
        "@author: Vítor Teixeira Mazziero - UNESP Araraquara\n",
        "\"\"\"\n",
        "\n",
        "import numpy as np\n",
        "import matplotlib.pyplot as plt\n",
        "from scipy.integrate import odeint\n",
        "\n",
        "# Condições iniciais\n",
        "Cx0 = 1.5 # Concentração inicial de células (inóculo) - C[0]\n",
        "Cs0 = 30 # Concentração inicial de substrato - C[1]\n",
        "Cp0 = 0 # Concentração inicial de produto - - C[2]\n",
        "\n",
        "C = [Cx0, Cs0, Cp0]\n",
        "\n",
        "# Parâmetros para crescimento celular\n",
        "μmax = 0.35\n",
        "Ks = 0.75\n",
        "Kd = 0\n",
        "\n",
        "# Parâmetro de ajuste (constante de inibição de substrato)\n",
        "Kis = 40\n",
        "\n",
        "# Parâmetros para consumo de substrato\n",
        "Yxs = 0.5\n",
        "\n",
        "# Parâmetros para formação de produto\n",
        "α = 0.5\n",
        "β = 0.1\n",
        "\n",
        "# Vetor tempo\n",
        "t=np.arange(0,12.6, 0.1) # Variação do tempo\n",
        "\n",
        "def C_Var(C, t, μmax, Ks, Kd, Kis, Yxs, α, β):\n",
        "    μ = μmax *(C[1]/(Ks + C[1] + ((C[1]**2)/Kis))) #Eq. (27) \n",
        "    dCxdt = (μ-Kd)*C[0] \n",
        "    dCsdt = - (μ*C[0]/Yxs)\n",
        "    dCpdt = α*μ*C[0]+β*C[0]\n",
        "    return (dCxdt, dCsdt, dCpdt)\n",
        "\n",
        "Result = odeint(C_Var, C, t, args=(μmax, Ks, Kd, Kis, Yxs, α, β))\n",
        "\n",
        "plt.plot(t, Result[:, 0], label='Cx')\n",
        "plt.plot(t, Result[:, 1], label='Cs')\n",
        "plt.plot(t, Result[:, 2], label='Cp')\n",
        "plt.ylim([-5, 35])\n",
        "plt.xlabel('Tempo')\n",
        "plt.ylabel('Concentração')\n",
        "plt.legend()\n",
        "plt.show()"
      ],
      "metadata": {
        "colab": {
          "base_uri": "https://localhost:8080/",
          "height": 283
        },
        "outputId": "f97e923b-a6eb-4398-ad3c-61263f58370c",
        "id": "NZiA3nHJPB4x"
      },
      "execution_count": null,
      "outputs": [
        {
          "output_type": "display_data",
          "data": {
            "text/plain": [
              "<Figure size 432x288 with 1 Axes>"
            ],
            "image/png": "[encoded data removed]"
          },
          "metadata": {
            "needs_background": "light"
          }
        }
      ]
    },
    {
      "cell_type": "markdown",
      "source": [
        "#### (Webb, 1963)"
      ],
      "metadata": {
        "id": "Sv8kc2EmOhvP"
      }
    },
    {
      "cell_type": "markdown",
      "source": [
        "Descrito em: *Webb, J.L., 1963. Enzyme and Metabolic Inhibitors. Academic Press, Boston, USA. DOI: http://dx.doi.org/10.5962/bhl.title.7320.* o modelo de Webb é dado pela Eq. (30):\n",
        "\n",
        "⠀\n",
        "\n",
        "$\\mu = \\frac{\\mu_{max}C_{s}(1+\\frac{C_{s}}{K_{is}})}{C_{s}+K_{s}+\\frac{C_{s}^{2}}{K_{is}}}$ ⠀⠀⠀⠀⠀⠀⠀⠀⠀⠀⠀⠀⠀⠀⠀⠀⠀⠀⠀⠀⠀⠀⠀⠀⠀⠀⠀⠀⠀ ⠀⠀Eq. (30)\n",
        "\n",
        "⠀\n",
        "\n",
        "A variação da concetração celular e de substrato passam a ser descritas pelas equações a seguir:\n",
        "\n",
        "$\\frac{\\mathrm{dC_{x}} }{\\mathrm{d} t} = \\frac{\\mu_{max}C_{s}(1+\\frac{C_{s}}{K_{is}})}{C_{s}+K_{s}+\\frac{C_{s}^{2}}{K_{is}}}C_{x}$ ⠀⠀⠀⠀⠀⠀⠀⠀⠀⠀⠀⠀⠀⠀⠀⠀⠀⠀⠀⠀⠀⠀⠀⠀⠀⠀⠀Eq. (31)\n",
        "\n",
        "\n",
        "$\\frac{\\mathrm{dC_{s}} }{\\mathrm{d} t} = -\\frac{\\mu_{max}C_{s}(1+\\frac{C_{s}}{K_{is}})}{C_{s}+K_{s}+\\frac{C_{s}^{2}}{K_{is}}}\\frac{C_{x}}{Y_{\\frac{x}{s}}}$ ⠀⠀⠀⠀⠀⠀⠀⠀⠀⠀⠀⠀⠀⠀⠀⠀⠀⠀⠀⠀⠀⠀⠀⠀⠀Eq. (32)"
      ],
      "metadata": {
        "id": "Aj00WmXOG9zi"
      }
    },
    {
      "cell_type": "code",
      "source": [
        "# Simulação - (Webb, 1963)\n",
        "\n",
        "# -*- coding: utf-8 -*-\n",
        "\"\"\"\n",
        "Created on Wed Sep  7 15:36:42 2022\n",
        "\n",
        "@author: Vítor Teixeira Mazziero - UNESP Araraquara\n",
        "\"\"\"\n",
        "\n",
        "import numpy as np\n",
        "import matplotlib.pyplot as plt\n",
        "from scipy.integrate import odeint\n",
        "\n",
        "# Condições iniciais\n",
        "Cx0 = 1.5 # Concentração inicial de células (inóculo) - C[0]\n",
        "Cs0 = 30 # Concentração inicial de substrato - C[1]\n",
        "Cp0 = 0 # Concentração inicial de produto - - C[2]\n",
        "\n",
        "C = [Cx0, Cs0, Cp0]\n",
        "\n",
        "# Parâmetros para crescimento celular\n",
        "μmax = 0.35\n",
        "Ks = 0.75\n",
        "Kd = 0\n",
        "\n",
        "# Parâmetro de ajuste (inibição)\n",
        "Kis = 1.5\n",
        "\n",
        "# Parâmetros para consumo de substrato\n",
        "Yxs = 0.5\n",
        "\n",
        "# Parâmetros para formação de produto\n",
        "α = 0.5\n",
        "β = 0.1\n",
        "\n",
        "# Vetor tempo\n",
        "t=np.arange(0,12.6, 0.1) # Variação do tempo\n",
        "\n",
        "def C_Var(C, t, μmax, Ks, Kd, Kis, Yxs, α, β):\n",
        "    μ = μmax *(C[1]*(1+(C[1]/Kis))/(Ks + C[1] + ((C[1]**2)/Kis))) #Eq. (30)\n",
        "    dCxdt = (μ-Kd)*C[0] \n",
        "    dCsdt = - (μ*C[0]/Yxs)\n",
        "    dCpdt = α*μ*C[0]+β*C[0]\n",
        "    return (dCxdt, dCsdt, dCpdt)\n",
        "\n",
        "Result = odeint(C_Var, C, t, args=(μmax, Ks, Kd, Kis, Yxs, α, β))\n",
        "\n",
        "plt.plot(t, Result[:, 0], label='Cx')\n",
        "plt.plot(t, Result[:, 1], label='Cs')\n",
        "plt.plot(t, Result[:, 2], label='Cp')\n",
        "plt.ylim([-5, 35])\n",
        "plt.xlabel('Tempo')\n",
        "plt.ylabel('Concentração')\n",
        "plt.legend()\n",
        "plt.show()"
      ],
      "metadata": {
        "colab": {
          "base_uri": "https://localhost:8080/",
          "height": 283
        },
        "outputId": "4d5b01a6-8121-48c6-baa2-4e3f32a2a090",
        "id": "1MV8tLoqG9zj"
      },
      "execution_count": null,
      "outputs": [
        {
          "output_type": "display_data",
          "data": {
            "text/plain": [
              "<Figure size 432x288 with 1 Axes>"
            ],
            "image/png": "[encoded data removed]"
          },
          "metadata": {
            "needs_background": "light"
          }
        }
      ]
    },
    {
      "cell_type": "markdown",
      "source": [
        "#### (Yano e Koga, 1969) "
      ],
      "metadata": {
        "id": "Rz-BerVWKIHt"
      }
    },
    {
      "cell_type": "markdown",
      "source": [
        "Descrito em: *Yano, T., Koga, S., 1969. Dynamic behavior of the chemostat subject to substrate inhibition. Biotechnol. Bioeng. 11 (2), 139–153. https://doi.org/10.1002/bit.260110204.* o modelo de Yano e Koga é dado pela Eq. (33):\n",
        "\n",
        "⠀\n",
        "\n",
        "$\\mu = \\frac{\\mu_{max}}{\\frac{K_{s}}{C_{s}}+\\frac{C_{s}^{2}}{K_{is1}}+\\frac{C_{s}^{3}}{K_{is2}^{2}}}$ ⠀⠀⠀⠀⠀⠀⠀⠀⠀⠀⠀⠀⠀⠀⠀⠀⠀⠀⠀⠀⠀⠀⠀⠀⠀⠀⠀⠀⠀⠀⠀Eq. (33)\n",
        "\n",
        "⠀\n",
        "\n",
        "A variação da concetração celular e de substrato passam a ser descritas pelas equações a seguir:\n",
        "\n",
        "$\\frac{\\mathrm{dC_{x}} }{\\mathrm{d} t} = \\frac{\\mu_{max}}{\\frac{K_{s}}{C_{s}}+\\frac{C_{s}^{2}}{K_{is1}}+\\frac{C_{s}^{3}}{K_{is2}^{2}}}C_{x}$ ⠀⠀⠀⠀⠀⠀⠀⠀⠀⠀⠀⠀⠀⠀⠀⠀⠀⠀⠀⠀⠀⠀⠀⠀⠀⠀⠀Eq. (34)\n",
        "\n",
        "\n",
        "$\\frac{\\mathrm{dC_{s}} }{\\mathrm{d} t} = -\\frac{\\mu_{max}}{\\frac{K_{s}}{C_{s}}+\\frac{C_{s}^{2}}{K_{is1}}+\\frac{C_{s}^{3}}{K_{is2}^{2}}}\\frac{C_{x}}{Y_{\\frac{x}{s}}}$ ⠀⠀⠀⠀⠀⠀⠀⠀⠀⠀⠀⠀⠀⠀⠀⠀⠀⠀⠀⠀⠀⠀⠀⠀⠀Eq. (35)"
      ],
      "metadata": {
        "id": "ov7Tz1snKIHu"
      }
    },
    {
      "cell_type": "code",
      "source": [
        "# Simulação - (Yano e Koga, 1969)\n",
        "\n",
        "# -*- coding: utf-8 -*-\n",
        "\"\"\"\n",
        "Created on Wed Sep  7 15:36:42 2022\n",
        "\n",
        "@author: Vítor Teixeira Mazziero - UNESP Araraquara\n",
        "\"\"\"\n",
        "\n",
        "import numpy as np\n",
        "import matplotlib.pyplot as plt\n",
        "from scipy.integrate import odeint\n",
        "\n",
        "# Condições iniciais\n",
        "Cx0 = 1.5 # Concentração inicial de células (inóculo) - C[0]\n",
        "Cs0 = 30 # Concentração inicial de substrato - C[1]\n",
        "Cp0 = 0 # Concentração inicial de produto - - C[2]\n",
        "\n",
        "C = [Cx0, Cs0, Cp0]\n",
        "\n",
        "# Parâmetros para crescimento celular\n",
        "μmax = 0.35\n",
        "Ks = 0.75\n",
        "Kd = 0.02\n",
        "\n",
        "# Parâmetros de ajuste (inibição)\n",
        "Kis1 = 500\n",
        "Kis2 = 850\n",
        "\n",
        "# Parâmetros para consumo de substrato\n",
        "Yxs = 0.5\n",
        "\n",
        "# Parâmetros para formação de produto\n",
        "α = 0.5\n",
        "β = 0.1\n",
        "\n",
        "# Vetor tempo\n",
        "t=np.arange(0,12.6, 0.1) # Variação do tempo\n",
        "\n",
        "def C_Var(C, t, μmax, Ks, Kd, Kis1, Kis2, Yxs, α, β):\n",
        "    μ = μmax/((Ks/C[1]) + ((C[1]**2)/Kis1)+((C[1]**3)/Kis2**2)) #Eq. (33)\n",
        "    dCxdt = (μ-Kd)*C[0] \n",
        "    dCsdt = - (μ*C[0]/Yxs)\n",
        "    dCpdt = α*μ*C[0]+β*C[0]\n",
        "    return (dCxdt, dCsdt, dCpdt)\n",
        "\n",
        "Result = odeint(C_Var, C, t, args=(μmax, Ks, Kd, Kis1, Kis2, Yxs, α, β))\n",
        "\n",
        "plt.plot(t, Result[:, 0], label='Cx')\n",
        "plt.plot(t, Result[:, 1], label='Cs')\n",
        "plt.plot(t, Result[:, 2], label='Cp')\n",
        "plt.ylim([-5, 35])\n",
        "plt.xlabel('Tempo')\n",
        "plt.ylabel('Concentração')\n",
        "plt.legend()\n",
        "plt.show()"
      ],
      "metadata": {
        "colab": {
          "base_uri": "https://localhost:8080/",
          "height": 283
        },
        "outputId": "4f8cb6a9-3c21-4186-f9af-55e7e79fc178",
        "id": "B55i2yM2KIHv"
      },
      "execution_count": null,
      "outputs": [
        {
          "output_type": "display_data",
          "data": {
            "text/plain": [
              "<Figure size 432x288 with 1 Axes>"
            ],
            "image/png": "[encoded data removed]"
          },
          "metadata": {
            "needs_background": "light"
          }
        }
      ]
    },
    {
      "cell_type": "markdown",
      "source": [
        "#### (Wu *et al*., 1988) "
      ],
      "metadata": {
        "id": "A0qacRJOJiaT"
      }
    },
    {
      "cell_type": "markdown",
      "source": [
        "Descrito em: *Wu Y.C., Hao O.J., Ou K.C., Scholze R.J., Treatment of leachate\n",
        "from solid waste landfill site using a two-stage anaerobic filter, Biotechnology Bioengineering, 31, p.257-266 (1988). DOI: https://doi.org/10.1002/bit.260310312* o modelo de Wu *et al*. é dado pela Eq. (36):\n",
        "\n",
        "⠀\n",
        "\n",
        "$\\mu = \\frac{\\mu_{max}}{1+\\frac{K_{s}}{C_{s}}+(\\frac{C_{s}}{K_{is}})^{n}}$ ⠀⠀⠀⠀⠀⠀⠀⠀⠀⠀⠀⠀⠀⠀⠀⠀⠀⠀⠀⠀⠀⠀⠀⠀⠀⠀⠀⠀⠀⠀⠀Eq. (36)\n",
        "\n",
        "⠀\n",
        "\n",
        "A variação da concetração celular e de substrato passam a ser descritas pelas equações a seguir:\n",
        "\n",
        "$\\frac{\\mathrm{dC_{x}} }{\\mathrm{d} t} = \\frac{\\mu_{max}}{1+\\frac{K_{s}}{C_{s}}+(\\frac{C_{s}}{K_{is}})^{n}}C_{x}$ ⠀⠀⠀⠀⠀⠀⠀⠀⠀⠀⠀⠀⠀⠀⠀⠀⠀⠀⠀⠀⠀⠀⠀⠀⠀⠀⠀Eq. (37)\n",
        "\n",
        "\n",
        "$\\frac{\\mathrm{dC_{s}} }{\\mathrm{d} t} = -\\frac{\\mu_{max}}{1+\\frac{K_{s}}{C_{s}}+(\\frac{C_{s}}{K_{is}})^{n}}\\frac{C_{x}}{Y_{\\frac{x}{s}}}$ ⠀⠀⠀⠀⠀⠀⠀⠀⠀⠀⠀⠀⠀⠀⠀⠀⠀⠀⠀⠀⠀⠀⠀⠀⠀Eq. (38)"
      ],
      "metadata": {
        "id": "nPUzKhGKJiaT"
      }
    },
    {
      "cell_type": "code",
      "source": [
        "# Simulação - (Wu et al., 1988)\n",
        "\n",
        "# -*- coding: utf-8 -*-\n",
        "\"\"\"\n",
        "Created on Wed Sep  7 15:36:42 2022\n",
        "\n",
        "@author: Vítor Teixeira Mazziero - UNESP Araraquara\n",
        "\"\"\"\n",
        "\n",
        "import numpy as np\n",
        "import matplotlib.pyplot as plt\n",
        "from scipy.integrate import odeint\n",
        "\n",
        "# Condições iniciais\n",
        "Cx0 = 1.5 # Concentração inicial de células (inóculo) - C[0]\n",
        "Cs0 = 30 # Concentração inicial de substrato - C[1]\n",
        "Cp0 = 0 # Concentração inicial de produto - - C[2]\n",
        "\n",
        "C = [Cx0, Cs0, Cp0]\n",
        "\n",
        "# Parâmetros para crescimento celular\n",
        "μmax = 0.5\n",
        "Ks = 0.9\n",
        "Kd = 0.01\n",
        "\n",
        "# Parâmetros de ajuste (inibição)\n",
        "Kis = 200\n",
        "n = 1\n",
        "\n",
        "# Parâmetros para consumo de substrato\n",
        "Yxs = 0.5\n",
        "\n",
        "# Parâmetros para formação de produto\n",
        "α = 0.5\n",
        "β = 0.1\n",
        "\n",
        "# Vetor tempo\n",
        "t=np.arange(0,12.6, 0.1) # Variação do tempo\n",
        "\n",
        "def C_Var(C, t, μmax, Ks, Kd, Yxs, α, β):\n",
        "    μ = μmax / (1 + (Ks/C[1]) + (C[1]/Kis)**n) #Eq. (20) #Eq. (36)\n",
        "    dCxdt = (μ-Kd)*C[0] \n",
        "    dCsdt = - (μ*C[0]/Yxs)\n",
        "    dCpdt = α*μ*C[0]+β*C[0]\n",
        "    return (dCxdt, dCsdt, dCpdt)\n",
        "\n",
        "Result = odeint(C_Var, C, t, args=(μmax, Ks, Kd, Yxs, α, β))\n",
        "\n",
        "plt.plot(t, Result[:, 0], label='Cx')\n",
        "plt.plot(t, Result[:, 1], label='Cs')\n",
        "plt.plot(t, Result[:, 2], label='Cp')\n",
        "plt.ylim([-5, 35])\n",
        "plt.xlabel('Tempo')\n",
        "plt.ylabel('Concentração')\n",
        "plt.legend()\n",
        "plt.show()"
      ],
      "metadata": {
        "colab": {
          "base_uri": "https://localhost:8080/",
          "height": 283
        },
        "outputId": "0d543b7f-4650-4c8b-bfec-e34780378ac2",
        "id": "meiz6fBEJiaU"
      },
      "execution_count": null,
      "outputs": [
        {
          "output_type": "display_data",
          "data": {
            "text/plain": [
              "<Figure size 432x288 with 1 Axes>"
            ],
            "image/png": "[encoded data removed]"
          },
          "metadata": {
            "needs_background": "light"
          }
        }
      ]
    },
    {
      "cell_type": "markdown",
      "source": [
        "#### (Han e Levenspiel, 1988)"
      ],
      "metadata": {
        "id": "4lVkELTVNTJG"
      }
    },
    {
      "cell_type": "markdown",
      "source": [
        "Descrito em: *Han, K., Levenspiel, O., 1988. Extended Monod kinetics for substrate, product, and cell inhibition. Biotechnol. Bioeng. 32 (4), 430–447. https://doi.org/10.1002/bit.260320404.* o modelo de Han e Levenspiel é dado pela Eq. (39):\n",
        "\n",
        "⠀\n",
        "\n",
        "$\\mu = \\mu_{max}\\left[1-\\left(\\frac{C_{s}}{C_{si}}\\right)\\right]^{n}\\left [\\frac{C_{s}}{C_{s}+K_{s}\\left(1-\\frac{C_{s}}{C_{si}}\\right)^{m}}\\right]$ ⠀⠀⠀⠀⠀⠀⠀⠀⠀⠀⠀⠀⠀⠀⠀⠀⠀⠀⠀⠀⠀⠀⠀⠀⠀⠀⠀⠀⠀⠀⠀Eq. (39)\n",
        "\n",
        "⠀\n",
        "\n",
        "A variação da concetração celular e de substrato passam a ser descritas pelas equações a seguir:\n",
        "\n",
        "$\\frac{\\mathrm{dC_{x}} }{\\mathrm{d} t} = \\mu_{max}\\left[1-\\left(\\frac{C_{s}}{C_{si}}\\right)\\right]^{n}\\left [\\frac{C_{s}}{C_{s}+K_{s}\\left(1-\\frac{C_{s}}{C_{si}}\\right)^{m}}\\right]C_{x}$ ⠀⠀⠀⠀⠀⠀⠀⠀⠀⠀⠀⠀⠀⠀⠀⠀⠀⠀⠀⠀⠀⠀⠀⠀⠀⠀⠀Eq. (40)\n",
        "\n",
        "\n",
        "$\\frac{\\mathrm{dC_{s}} }{\\mathrm{d} t} = -\\mu_{max}\\left[1-\\left(\\frac{C_{s}}{C_{si}}\\right)\\right]^{n}\\left [\\frac{C_{s}}{C_{s}+K_{s}\\left(1-\\frac{C_{s}}{C_{si}}\\right)^{m}}\\right]\\frac{C_{x}}{Y_{\\frac{x}{s}}}$ ⠀⠀⠀⠀⠀⠀⠀⠀⠀⠀⠀⠀⠀⠀⠀⠀⠀⠀⠀⠀⠀⠀⠀⠀⠀Eq. (41)"
      ],
      "metadata": {
        "id": "PqzS_KEiNTJH"
      }
    },
    {
      "cell_type": "code",
      "source": [
        "# Simulação - (Han and Levenspiel, 1988)\n",
        "\n",
        "# -*- coding: utf-8 -*-\n",
        "\"\"\"\n",
        "Created on Wed Sep  7 15:36:42 2022\n",
        "\n",
        "@author: Vítor Teixeira Mazziero - UNESP Araraquara\n",
        "\"\"\"\n",
        "\n",
        "import numpy as np\n",
        "import matplotlib.pyplot as plt\n",
        "from scipy.integrate import odeint\n",
        "\n",
        "# Condições iniciais\n",
        "Cx0 = 5 # Concentração inicial de células (inóculo) - C[0]\n",
        "Cs0 = 30 # Concentração inicial de substrato - C[1]\n",
        "Cp0 = 0 # Concentração inicial de produto - - C[2]\n",
        "\n",
        "C = [Cx0, Cs0, Cp0]\n",
        "\n",
        "# Parâmetros para crescimento celular\n",
        "μmax = 0.35\n",
        "Ks = 0.75\n",
        "Kd = 0.05\n",
        "\n",
        "# Parâmetros de ajuste (inibição)\n",
        "Csi = 200 #Concentração crítica de inibição\n",
        "n = 3\n",
        "m = 1.2\n",
        "\n",
        "# Parâmetros para consumo de substrato\n",
        "Yxs = 0.5\n",
        "\n",
        "# Parâmetros para formação de produto\n",
        "α = 0.0\n",
        "β = 0.1\n",
        "\n",
        "# Vetor tempo\n",
        "t=np.arange(0,12.6, 0.1) # Variação do tempo\n",
        "\n",
        "def C_Var(C, t, μmax, Ks, Kd, Csi, n, m, Yxs, α, β):\n",
        "    μ = μmax*((1-(C[1]/Csi))**n)*(C[1]/(C[1]+Ks*(1-(C[1]/Csi))**m)) #Eq. (20)\n",
        "    dCxdt = (μ-Kd)*C[0] \n",
        "    dCsdt = - (μ*C[0]/Yxs)\n",
        "    dCpdt = α*μ*C[0]+β*C[0]\n",
        "    return (dCxdt, dCsdt, dCpdt)\n",
        "\n",
        "Result = odeint(C_Var, C, t, args=(μmax, Ks, Kd, Csi, n, m, Yxs, α, β))\n",
        "\n",
        "plt.plot(t, Result[:, 0], label='Cx')\n",
        "plt.plot(t, Result[:, 1], label='Cs')\n",
        "plt.plot(t, Result[:, 2], label='Cp')\n",
        "plt.ylim([-5, 35])\n",
        "plt.xlabel('Tempo')\n",
        "plt.ylabel('Concentração')\n",
        "plt.legend()\n",
        "plt.show()"
      ],
      "metadata": {
        "colab": {
          "base_uri": "https://localhost:8080/",
          "height": 283
        },
        "outputId": "ec503aca-46ec-42c5-a55c-3dddc9cbd8df",
        "id": "MlphBPHbNTJI"
      },
      "execution_count": 209,
      "outputs": [
        {
          "output_type": "display_data",
          "data": {
            "text/plain": [
              "<Figure size 432x288 with 1 Axes>"
            ],
            "image/png": "[encoded data removed]"
          },
          "metadata": {
            "needs_background": "light"
          }
        }
      ]
    },
    {
      "cell_type": "markdown",
      "source": [
        "#### (Luong, 1987)"
      ],
      "metadata": {
        "id": "zVlBT1IzOJxF"
      }
    },
    {
      "cell_type": "markdown",
      "source": [
        "Descrito em: *Luong, J.H.T., 1987. Generalization of Monod kinetics for analysis of growth data with substrate inhibition. Biotechnol. Bioeng. 29 (2), 242. DOI: [10.1002/bit.260290215](https://pubmed.ncbi.nlm.nih.gov/18576382/)* o modelo de Luong é dado pela Eq. (42):\n",
        "\n",
        "⠀\n",
        "\n",
        "$\\mu = \\mu_{max}\\frac{C_{s}}{C_{s}+K_{s}}\\left ( 1- \\frac{C_{s}}{C_{si}}\\right )^{n}$ ⠀⠀⠀⠀⠀⠀⠀⠀⠀⠀⠀⠀⠀⠀⠀⠀⠀⠀⠀⠀⠀⠀⠀⠀⠀⠀⠀⠀⠀⠀⠀Eq. (42)\n",
        "\n",
        "⠀\n",
        "\n",
        "A variação da concetração celular e de substrato passam a ser descritas pelas equações a seguir:\n",
        "\n",
        "$\\frac{\\mathrm{dC_{x}} }{\\mathrm{d} t} = \\mu_{max}\\frac{C_{s}}{C_{s}+K_{s}}\\left ( 1- \\frac{C_{s}}{C_{si}}\\right )^{n}C_{x}$ ⠀⠀⠀⠀⠀⠀⠀⠀⠀⠀⠀⠀⠀⠀⠀⠀⠀⠀⠀⠀⠀⠀⠀⠀⠀⠀⠀Eq. (43)\n",
        "\n",
        "\n",
        "$\\frac{\\mathrm{dC_{s}} }{\\mathrm{d} t} = -\\mu_{max}\\frac{C_{s}}{C_{s}+K_{s}}\\left ( 1- \\frac{C_{s}}{C_{si}}\\right )^{n}\\frac{C_{x}}{Y_{\\frac{x}{s}}}$ ⠀⠀⠀⠀⠀⠀⠀⠀⠀⠀⠀⠀⠀⠀⠀⠀⠀⠀⠀⠀⠀⠀⠀⠀⠀Eq. (44)"
      ],
      "metadata": {
        "id": "xQ6BvM4fOJxG"
      }
    },
    {
      "cell_type": "code",
      "source": [
        "# Simulação - (Luong, 1987)\n",
        "\n",
        "# -*- coding: utf-8 -*-\n",
        "\"\"\"\n",
        "Created on Wed Sep  7 15:36:42 2022\n",
        "\n",
        "@author: Vítor Teixeira Mazziero - UNESP Araraquara\n",
        "\"\"\"\n",
        "\n",
        "import numpy as np\n",
        "import matplotlib.pyplot as plt\n",
        "from scipy.integrate import odeint\n",
        "\n",
        "# Condições iniciais\n",
        "Cx0 = 1.5 # Concentração inicial de células (inóculo) - C[0]\n",
        "Cs0 = 30 # Concentração inicial de substrato - C[1]\n",
        "Cp0 = 0 # Concentração inicial de produto - - C[2]\n",
        "\n",
        "C = [Cx0, Cs0, Cp0]\n",
        "\n",
        "# Parâmetros para crescimento celular\n",
        "μmax = 0.35\n",
        "Ks = 0.9\n",
        "Kd = 0\n",
        "\n",
        "# Parâmetros de ajuste (inibição)\n",
        "Csi = 150 #Concentração crítica de inibição\n",
        "n = 2\n",
        "\n",
        "# Parâmetros para consumo de substrato\n",
        "Yxs = 0.5\n",
        "\n",
        "# Parâmetros para formação de produto\n",
        "α = 0.5\n",
        "β = 0.1\n",
        "\n",
        "# Vetor tempo\n",
        "t=np.arange(0,12.6, 0.1) # Variação do tempo\n",
        "\n",
        "def C_Var(C, t, μmax, Ks, Kd, Csi, n, Yxs, α, β):\n",
        "    μ = μmax*(C[1]/(Ks+C[1]))*(1-(C[1]/Csi))**n #Eq. (20)\n",
        "    dCxdt = (μ-Kd)*C[0] \n",
        "    dCsdt = - (μ*C[0]/Yxs)\n",
        "    dCpdt = α*μ*C[0]+β*C[0]\n",
        "    return (dCxdt, dCsdt, dCpdt)\n",
        "\n",
        "Result = odeint(C_Var, C, t, args=(μmax, Ks, Kd, Csi, n, Yxs, α, β))\n",
        "\n",
        "plt.plot(t, Result[:, 0], label='Cx')\n",
        "plt.plot(t, Result[:, 1], label='Cs')\n",
        "plt.plot(t, Result[:, 2], label='Cp')\n",
        "plt.ylim([-5, 35])\n",
        "plt.xlabel('Tempo')\n",
        "plt.ylabel('Concentração')\n",
        "plt.legend()\n",
        "plt.show()"
      ],
      "metadata": {
        "colab": {
          "base_uri": "https://localhost:8080/",
          "height": 283
        },
        "outputId": "2faf8c00-a138-4ef4-cb03-558c0756356a",
        "id": "QtY0WiIlOJxI"
      },
      "execution_count": 219,
      "outputs": [
        {
          "output_type": "display_data",
          "data": {
            "text/plain": [
              "<Figure size 432x288 with 1 Axes>"
            ],
            "image/png": "[encoded data removed]"
          },
          "metadata": {
            "needs_background": "light"
          }
        }
      ]
    },
    {
      "cell_type": "markdown",
      "source": [
        "### Modelos para simulação com **inibição por produto**"
      ],
      "metadata": {
        "id": "iwLrKJTqLnqj"
      }
    },
    {
      "cell_type": "markdown",
      "source": [
        "#### (Hoppe e Hansford, 1982)"
      ],
      "metadata": {
        "id": "m2MsX58wLu6G"
      }
    },
    {
      "cell_type": "markdown",
      "source": [
        "Descrito em: *Contois, D. E. (1959).Kinetics of Bacterial Growth: Relationship between Population Density and Specific Growth Rate of Continuous Cultures J . gen. Microbial. 21: 40-50. DOI: [10.1099/00221287-21-1-40](https://https://www.microbiologyresearch.org/content/journal/micro/10.1099/00221287-21-1-40)* o modelo de Contois é dado pela Eq. (20):\n",
        "\n",
        "⠀\n",
        "\n",
        "$\\mu = \\frac{\\mu_{max}C_{s} }{C_{s}K_{s}+C_{s}}$ ⠀⠀⠀⠀⠀⠀⠀⠀⠀⠀⠀⠀⠀⠀⠀⠀⠀⠀⠀⠀⠀⠀⠀⠀⠀⠀⠀⠀⠀⠀⠀Eq. (20)\n",
        "\n",
        "⠀\n",
        "\n",
        "A variação da concetração celular e de substrato passam a ser descritas pelas equações a seguir:\n",
        "\n",
        "$\\frac{\\mathrm{dC_{x}} }{\\mathrm{d} t} = \\frac{\\mu_{max}C_{s} }{C_{s}K_{s}+C_{s}}C_{x}$ ⠀⠀⠀⠀⠀⠀⠀⠀⠀⠀⠀⠀⠀⠀⠀⠀⠀⠀⠀⠀⠀⠀⠀⠀⠀⠀⠀Eq. (21)\n",
        "\n",
        "\n",
        "$\\frac{\\mathrm{dC_{s}} }{\\mathrm{d} t} = -\\frac{\\mu_{max}C_{s} }{C_{s}K_{s}+C_{s}}\\frac{C_{x}}{Y_{\\frac{x}{s}}}$ ⠀⠀⠀⠀⠀⠀⠀⠀⠀⠀⠀⠀⠀⠀⠀⠀⠀⠀⠀⠀⠀⠀⠀⠀⠀Eq. (22)"
      ],
      "metadata": {
        "id": "GdMCPtmELu6I"
      }
    },
    {
      "cell_type": "code",
      "source": [
        "# Simulação - (Contois, 1959)\n",
        "\n",
        "# -*- coding: utf-8 -*-\n",
        "\"\"\"\n",
        "Created on Wed Sep  7 15:36:42 2022\n",
        "\n",
        "@author: Vítor Teixeira Mazziero - UNESP Araraquara\n",
        "\"\"\"\n",
        "\n",
        "import numpy as np\n",
        "import matplotlib.pyplot as plt\n",
        "from scipy.integrate import odeint\n",
        "\n",
        "# Condições iniciais\n",
        "Cx0 = 1.5 # Concentração inicial de células (inóculo) - C[0]\n",
        "Cs0 = 30 # Concentração inicial de substrato - C[1]\n",
        "Cp0 = 0 # Concentração inicial de produto - - C[2]\n",
        "\n",
        "C = [Cx0, Cs0, Cp0]\n",
        "\n",
        "# Parâmetros para crescimento celular\n",
        "μmax = 0.35\n",
        "Ks = 0.75\n",
        "Kd = 0\n",
        "\n",
        "# Parâmetros para consumo de substrato\n",
        "Yxs = 0.5\n",
        "\n",
        "# Parâmetros para formação de produto\n",
        "α = 0.5\n",
        "β = 0.1\n",
        "\n",
        "# Vetor tempo\n",
        "t=np.arange(0,12.6, 0.1) # Variação do tempo\n",
        "\n",
        "def C_Var(C, t, μmax, Ks, Kd, Yxs, α, β):\n",
        "    μ=μmax*(C[1]/(Ks*C[0]+C[1])) #Eq. (20)\n",
        "    dCxdt = (μ-Kd)*C[0] \n",
        "    dCsdt = - (μ*C[0]/Yxs)\n",
        "    dCpdt = α*μ*C[0]+β*C[0]\n",
        "    return (dCxdt, dCsdt, dCpdt)\n",
        "\n",
        "Result = odeint(C_Var, C, t, args=(μmax, Ks, Kd, Yxs, α, β))\n",
        "\n",
        "plt.plot(t, Result[:, 0], label='Cx')\n",
        "plt.plot(t, Result[:, 1], label='Cs')\n",
        "plt.plot(t, Result[:, 2], label='Cp')\n",
        "plt.ylim([-5, 35])\n",
        "plt.xlabel('Tempo')\n",
        "plt.ylabel('Concentração')\n",
        "plt.legend()\n",
        "plt.show()"
      ],
      "metadata": {
        "colab": {
          "base_uri": "https://localhost:8080/",
          "height": 283
        },
        "outputId": "5956622f-316e-48c3-9895-bc3f5d2ec96f",
        "id": "b7Q-wPBuLu6K"
      },
      "execution_count": null,
      "outputs": [
        {
          "output_type": "display_data",
          "data": {
            "text/plain": [
              "<Figure size 432x288 with 1 Axes>"
            ],
            "image/png": "[encoded data removed]"
          },
          "metadata": {
            "needs_background": "light"
          }
        }
      ]
    },
    {
      "cell_type": "markdown",
      "source": [
        "#### (Levenspiel, 1980)"
      ],
      "metadata": {
        "id": "S2uAz83kNDLl"
      }
    },
    {
      "cell_type": "markdown",
      "source": [
        "Descrito em: *Contois, D. E. (1959).Kinetics of Bacterial Growth: Relationship between Population Density and Specific Growth Rate of Continuous Cultures J . gen. Microbial. 21: 40-50. DOI: [10.1099/00221287-21-1-40](https://https://www.microbiologyresearch.org/content/journal/micro/10.1099/00221287-21-1-40)* o modelo de Contois é dado pela Eq. (20):\n",
        "\n",
        "⠀\n",
        "\n",
        "$\\mu = \\frac{\\mu_{max}C_{s} }{C_{s}K_{s}+C_{s}}$ ⠀⠀⠀⠀⠀⠀⠀⠀⠀⠀⠀⠀⠀⠀⠀⠀⠀⠀⠀⠀⠀⠀⠀⠀⠀⠀⠀⠀⠀⠀⠀Eq. (20)\n",
        "\n",
        "⠀\n",
        "\n",
        "A variação da concetração celular e de substrato passam a ser descritas pelas equações a seguir:\n",
        "\n",
        "$\\frac{\\mathrm{dC_{x}} }{\\mathrm{d} t} = \\frac{\\mu_{max}C_{s} }{C_{s}K_{s}+C_{s}}C_{x}$ ⠀⠀⠀⠀⠀⠀⠀⠀⠀⠀⠀⠀⠀⠀⠀⠀⠀⠀⠀⠀⠀⠀⠀⠀⠀⠀⠀Eq. (21)\n",
        "\n",
        "\n",
        "$\\frac{\\mathrm{dC_{s}} }{\\mathrm{d} t} = -\\frac{\\mu_{max}C_{s} }{C_{s}K_{s}+C_{s}}\\frac{C_{x}}{Y_{\\frac{x}{s}}}$ ⠀⠀⠀⠀⠀⠀⠀⠀⠀⠀⠀⠀⠀⠀⠀⠀⠀⠀⠀⠀⠀⠀⠀⠀⠀Eq. (22)"
      ],
      "metadata": {
        "id": "fYPtinhhNDLm"
      }
    },
    {
      "cell_type": "code",
      "source": [
        "# Simulação - (Contois, 1959)\n",
        "\n",
        "# -*- coding: utf-8 -*-\n",
        "\"\"\"\n",
        "Created on Wed Sep  7 15:36:42 2022\n",
        "\n",
        "@author: Vítor Teixeira Mazziero - UNESP Araraquara\n",
        "\"\"\"\n",
        "\n",
        "import numpy as np\n",
        "import matplotlib.pyplot as plt\n",
        "from scipy.integrate import odeint\n",
        "\n",
        "# Condições iniciais\n",
        "Cx0 = 1.5 # Concentração inicial de células (inóculo) - C[0]\n",
        "Cs0 = 30 # Concentração inicial de substrato - C[1]\n",
        "Cp0 = 0 # Concentração inicial de produto - - C[2]\n",
        "\n",
        "C = [Cx0, Cs0, Cp0]\n",
        "\n",
        "# Parâmetros para crescimento celular\n",
        "μmax = 0.35\n",
        "Ks = 0.75\n",
        "Kd = 0\n",
        "\n",
        "# Parâmetros para consumo de substrato\n",
        "Yxs = 0.5\n",
        "\n",
        "# Parâmetros para formação de produto\n",
        "α = 0.5\n",
        "β = 0.1\n",
        "\n",
        "# Vetor tempo\n",
        "t=np.arange(0,12.6, 0.1) # Variação do tempo\n",
        "\n",
        "def C_Var(C, t, μmax, Ks, Kd, Yxs, α, β):\n",
        "    μ=μmax*(C[1]/(Ks*C[0]+C[1])) #Eq. (20)\n",
        "    dCxdt = (μ-Kd)*C[0] \n",
        "    dCsdt = - (μ*C[0]/Yxs)\n",
        "    dCpdt = α*μ*C[0]+β*C[0]\n",
        "    return (dCxdt, dCsdt, dCpdt)\n",
        "\n",
        "Result = odeint(C_Var, C, t, args=(μmax, Ks, Kd, Yxs, α, β))\n",
        "\n",
        "plt.plot(t, Result[:, 0], label='Cx')\n",
        "plt.plot(t, Result[:, 1], label='Cs')\n",
        "plt.plot(t, Result[:, 2], label='Cp')\n",
        "plt.ylim([-5, 35])\n",
        "plt.xlabel('Tempo')\n",
        "plt.ylabel('Concentração')\n",
        "plt.legend()\n",
        "plt.show()"
      ],
      "metadata": {
        "colab": {
          "base_uri": "https://localhost:8080/",
          "height": 283
        },
        "outputId": "5956622f-316e-48c3-9895-bc3f5d2ec96f",
        "id": "VS2imXlYNDLm"
      },
      "execution_count": null,
      "outputs": [
        {
          "output_type": "display_data",
          "data": {
            "text/plain": [
              "<Figure size 432x288 with 1 Axes>"
            ],
            "image/png": "[encoded data removed]"
          },
          "metadata": {
            "needs_background": "light"
          }
        }
      ]
    },
    {
      "cell_type": "markdown",
      "source": [
        "####  (Aiba *et al*., 1968)"
      ],
      "metadata": {
        "id": "6XCtQwTEMX7j"
      }
    },
    {
      "cell_type": "markdown",
      "source": [
        "Descrito em: *Contois, D. E. (1959).Kinetics of Bacterial Growth: Relationship between Population Density and Specific Growth Rate of Continuous Cultures J . gen. Microbial. 21: 40-50. DOI: [10.1099/00221287-21-1-40](https://https://www.microbiologyresearch.org/content/journal/micro/10.1099/00221287-21-1-40)* o modelo de Contois é dado pela Eq. (20):\n",
        "\n",
        "⠀\n",
        "\n",
        "$\\mu = \\frac{\\mu_{max}C_{s} }{C_{s}K_{s}+C_{s}}$ ⠀⠀⠀⠀⠀⠀⠀⠀⠀⠀⠀⠀⠀⠀⠀⠀⠀⠀⠀⠀⠀⠀⠀⠀⠀⠀⠀⠀⠀⠀⠀Eq. (20)\n",
        "\n",
        "⠀\n",
        "\n",
        "A variação da concetração celular e de substrato passam a ser descritas pelas equações a seguir:\n",
        "\n",
        "$\\frac{\\mathrm{dC_{x}} }{\\mathrm{d} t} = \\frac{\\mu_{max}C_{s} }{C_{s}K_{s}+C_{s}}C_{x}$ ⠀⠀⠀⠀⠀⠀⠀⠀⠀⠀⠀⠀⠀⠀⠀⠀⠀⠀⠀⠀⠀⠀⠀⠀⠀⠀⠀Eq. (21)\n",
        "\n",
        "\n",
        "$\\frac{\\mathrm{dC_{s}} }{\\mathrm{d} t} = -\\frac{\\mu_{max}C_{s} }{C_{s}K_{s}+C_{s}}\\frac{C_{x}}{Y_{\\frac{x}{s}}}$ ⠀⠀⠀⠀⠀⠀⠀⠀⠀⠀⠀⠀⠀⠀⠀⠀⠀⠀⠀⠀⠀⠀⠀⠀⠀Eq. (22)"
      ],
      "metadata": {
        "id": "RDCHWyQnMX7k"
      }
    },
    {
      "cell_type": "code",
      "source": [
        "# Simulação - (Contois, 1959)\n",
        "\n",
        "# -*- coding: utf-8 -*-\n",
        "\"\"\"\n",
        "Created on Wed Sep  7 15:36:42 2022\n",
        "\n",
        "@author: Vítor Teixeira Mazziero - UNESP Araraquara\n",
        "\"\"\"\n",
        "\n",
        "import numpy as np\n",
        "import matplotlib.pyplot as plt\n",
        "from scipy.integrate import odeint\n",
        "\n",
        "# Condições iniciais\n",
        "Cx0 = 1.5 # Concentração inicial de células (inóculo) - C[0]\n",
        "Cs0 = 30 # Concentração inicial de substrato - C[1]\n",
        "Cp0 = 0 # Concentração inicial de produto - - C[2]\n",
        "\n",
        "C = [Cx0, Cs0, Cp0]\n",
        "\n",
        "# Parâmetros para crescimento celular\n",
        "μmax = 0.35\n",
        "Ks = 0.75\n",
        "Kd = 0\n",
        "\n",
        "# Parâmetros para consumo de substrato\n",
        "Yxs = 0.5\n",
        "\n",
        "# Parâmetros para formação de produto\n",
        "α = 0.5\n",
        "β = 0.1\n",
        "\n",
        "# Vetor tempo\n",
        "t=np.arange(0,12.6, 0.1) # Variação do tempo\n",
        "\n",
        "def C_Var(C, t, μmax, Ks, Kd, Yxs, α, β):\n",
        "    μ=μmax*(C[1]/(Ks*C[0]+C[1])) #Eq. (20)\n",
        "    dCxdt = (μ-Kd)*C[0] \n",
        "    dCsdt = - (μ*C[0]/Yxs)\n",
        "    dCpdt = α*μ*C[0]+β*C[0]\n",
        "    return (dCxdt, dCsdt, dCpdt)\n",
        "\n",
        "Result = odeint(C_Var, C, t, args=(μmax, Ks, Kd, Yxs, α, β))\n",
        "\n",
        "plt.plot(t, Result[:, 0], label='Cx')\n",
        "plt.plot(t, Result[:, 1], label='Cs')\n",
        "plt.plot(t, Result[:, 2], label='Cp')\n",
        "plt.ylim([-5, 35])\n",
        "plt.xlabel('Tempo')\n",
        "plt.ylabel('Concentração')\n",
        "plt.legend()\n",
        "plt.show()"
      ],
      "metadata": {
        "colab": {
          "base_uri": "https://localhost:8080/",
          "height": 283
        },
        "outputId": "5956622f-316e-48c3-9895-bc3f5d2ec96f",
        "id": "FZGXXscSMX7l"
      },
      "execution_count": null,
      "outputs": [
        {
          "output_type": "display_data",
          "data": {
            "text/plain": [
              "<Figure size 432x288 with 1 Axes>"
            ],
            "image/png": "[encoded data removed]"
          },
          "metadata": {
            "needs_background": "light"
          }
        }
      ]
    },
    {
      "cell_type": "markdown",
      "source": [
        "### Modelos para simulação com **inibição por células**"
      ],
      "metadata": {
        "id": "QNF1_BxXPO5E"
      }
    },
    {
      "cell_type": "markdown",
      "source": [
        "####  (Lee *et al*., 1983)"
      ],
      "metadata": {
        "id": "Ecdj6YqvPVNZ"
      }
    },
    {
      "cell_type": "markdown",
      "source": [
        "Descrito em: *Contois, D. E. (1959).Kinetics of Bacterial Growth: Relationship between Population Density and Specific Growth Rate of Continuous Cultures J . gen. Microbial. 21: 40-50. DOI: [10.1099/00221287-21-1-40](https://https://www.microbiologyresearch.org/content/journal/micro/10.1099/00221287-21-1-40)* o modelo de Contois é dado pela Eq. (20):\n",
        "\n",
        "⠀\n",
        "\n",
        "$\\mu = \\frac{\\mu_{max}C_{s} }{C_{s}K_{s}+C_{s}}$ ⠀⠀⠀⠀⠀⠀⠀⠀⠀⠀⠀⠀⠀⠀⠀⠀⠀⠀⠀⠀⠀⠀⠀⠀⠀⠀⠀⠀⠀⠀⠀Eq. (20)\n",
        "\n",
        "⠀\n",
        "\n",
        "A variação da concetração celular e de substrato passam a ser descritas pelas equações a seguir:\n",
        "\n",
        "$\\frac{\\mathrm{dC_{x}} }{\\mathrm{d} t} = \\frac{\\mu_{max}C_{s} }{C_{s}K_{s}+C_{s}}C_{x}$ ⠀⠀⠀⠀⠀⠀⠀⠀⠀⠀⠀⠀⠀⠀⠀⠀⠀⠀⠀⠀⠀⠀⠀⠀⠀⠀⠀Eq. (21)\n",
        "\n",
        "\n",
        "$\\frac{\\mathrm{dC_{s}} }{\\mathrm{d} t} = -\\frac{\\mu_{max}C_{s} }{C_{s}K_{s}+C_{s}}\\frac{C_{x}}{Y_{\\frac{x}{s}}}$ ⠀⠀⠀⠀⠀⠀⠀⠀⠀⠀⠀⠀⠀⠀⠀⠀⠀⠀⠀⠀⠀⠀⠀⠀⠀Eq. (22)"
      ],
      "metadata": {
        "id": "KnJ5k18XPVNZ"
      }
    },
    {
      "cell_type": "code",
      "source": [
        "# Simulação - (Contois, 1959)\n",
        "\n",
        "# -*- coding: utf-8 -*-\n",
        "\"\"\"\n",
        "Created on Wed Sep  7 15:36:42 2022\n",
        "\n",
        "@author: Vítor Teixeira Mazziero - UNESP Araraquara\n",
        "\"\"\"\n",
        "\n",
        "import numpy as np\n",
        "import matplotlib.pyplot as plt\n",
        "from scipy.integrate import odeint\n",
        "\n",
        "# Condições iniciais\n",
        "Cx0 = 1.5 # Concentração inicial de células (inóculo) - C[0]\n",
        "Cs0 = 30 # Concentração inicial de substrato - C[1]\n",
        "Cp0 = 0 # Concentração inicial de produto - - C[2]\n",
        "\n",
        "C = [Cx0, Cs0, Cp0]\n",
        "\n",
        "# Parâmetros para crescimento celular\n",
        "μmax = 0.35\n",
        "Ks = 0.75\n",
        "Kd = 0\n",
        "\n",
        "# Parâmetros para consumo de substrato\n",
        "Yxs = 0.5\n",
        "\n",
        "# Parâmetros para formação de produto\n",
        "α = 0.5\n",
        "β = 0.1\n",
        "\n",
        "# Vetor tempo\n",
        "t=np.arange(0,12.6, 0.1) # Variação do tempo\n",
        "\n",
        "def C_Var(C, t, μmax, Ks, Kd, Yxs, α, β):\n",
        "    μ=μmax*(C[1]/(Ks*C[0]+C[1])) #Eq. (20)\n",
        "    dCxdt = (μ-Kd)*C[0] \n",
        "    dCsdt = - (μ*C[0]/Yxs)\n",
        "    dCpdt = α*μ*C[0]+β*C[0]\n",
        "    return (dCxdt, dCsdt, dCpdt)\n",
        "\n",
        "Result = odeint(C_Var, C, t, args=(μmax, Ks, Kd, Yxs, α, β))\n",
        "\n",
        "plt.plot(t, Result[:, 0], label='Cx')\n",
        "plt.plot(t, Result[:, 1], label='Cs')\n",
        "plt.plot(t, Result[:, 2], label='Cp')\n",
        "plt.ylim([-5, 35])\n",
        "plt.xlabel('Tempo')\n",
        "plt.ylabel('Concentração')\n",
        "plt.legend()\n",
        "plt.show()"
      ],
      "metadata": {
        "colab": {
          "base_uri": "https://localhost:8080/",
          "height": 283
        },
        "outputId": "5956622f-316e-48c3-9895-bc3f5d2ec96f",
        "id": "92SttG1sPVNa"
      },
      "execution_count": null,
      "outputs": [
        {
          "output_type": "display_data",
          "data": {
            "text/plain": [
              "<Figure size 432x288 with 1 Axes>"
            ],
            "image/png": "[encoded data removed]"
          },
          "metadata": {
            "needs_background": "light"
          }
        }
      ]
    }
  ]
}